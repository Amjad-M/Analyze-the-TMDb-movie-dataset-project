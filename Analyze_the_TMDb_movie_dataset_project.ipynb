{
  "cells": [
    {
      "cell_type": "markdown",
      "source": [
        "# Analyze the TMDb movie dataset 🎞\n",
        "\n",
        "---"
      ],
      "metadata": {
        "id": "LQmvdZCt9p6k"
      }
    },
    {
      "cell_type": "markdown",
      "source": [
        "\n",
        "### A successful movie not only entertains the audience but also brings tremendous profit to movie companies.💰 \n",
        "\n",
        "\n",
        "The TMDb Movie dataset is a collection of information on around 10000 movies. For each movie, the dataset includes information on aspects such as popularity, budget, revenue, directors, and other.\n",
        "\n",
        "## *Outline of analysis*\n",
        ">* Explore the data and ask research questions that could be answered using the data.\n",
        ">* Performed necessary assesing and  cleaning steps to unify formats, deal with data problems and prepare the dataset for analysis using pandas.\n",
        ">* Created visualizations using matplotlib and made inferences to answer research questions."
      ],
      "metadata": {
        "id": "rzJBYNO59KQJ"
      }
    },
    {
      "cell_type": "markdown",
      "metadata": {
        "id": "odAJ9Gxsr9su"
      },
      "source": [
        "\n",
        "\n",
        "\n",
        "\n",
        "### We will analyze data for the last ten years in order to answer these questions:\n",
        "* What movie genre has had the most popularity in the last ten year?\n",
        "* What is the rate of budget per genre in the last ten years?\n",
        "* Is there a relationship between popularity and average vote?\n",
        "* Which genre has the highest number of movies generated in the last five years?"
      ]
    },
    {
      "cell_type": "code",
      "execution_count": 1,
      "metadata": {
        "id": "FBPyhWSGr9su"
      },
      "outputs": [],
      "source": [
        "# import the needed libraries\n",
        "import pandas as pd \n",
        "import numpy as np\n",
        "import matplotlib.pyplot as plt\n",
        "import seaborn as sns\n",
        "%matplotlib inline"
      ]
    },
    {
      "cell_type": "markdown",
      "metadata": {
        "id": "bDkIHXcQr9sv"
      },
      "source": [
        "<a id='wrangling'></a>\n",
        "## Data Wrangling\n",
        "\n",
        "### General Properties"
      ]
    },
    {
      "cell_type": "markdown",
      "source": [
        "### Load the ***tmdb movies*** dataset"
      ],
      "metadata": {
        "id": "4LvXKoBe5UGb"
      }
    },
    {
      "cell_type": "code",
      "execution_count": 11,
      "metadata": {
        "id": "SvndLFoGr9sv"
      },
      "outputs": [],
      "source": [
        "# load the dataset data\n",
        "df = pd.read_csv('tmdb-movies.csv')"
      ]
    },
    {
      "cell_type": "markdown",
      "source": [
        "### Data Exploration"
      ],
      "metadata": {
        "id": "VCPzrBD_5nI6"
      }
    },
    {
      "cell_type": "code",
      "source": [
        "# print out the first five rows\n",
        "df.head()"
      ],
      "metadata": {
        "colab": {
          "base_uri": "https://localhost:8080/",
          "height": 699
        },
        "id": "k522-Gf55ntJ",
        "outputId": "3788e287-8cb7-4d36-a727-280ba092981b"
      },
      "execution_count": 12,
      "outputs": [
        {
          "output_type": "execute_result",
          "data": {
            "text/plain": [
              "       id    imdb_id  popularity     budget     revenue  \\\n",
              "0  135397  tt0369610   32.985763  150000000  1513528810   \n",
              "1   76341  tt1392190   28.419936  150000000   378436354   \n",
              "2  262500  tt2908446   13.112507  110000000   295238201   \n",
              "3  140607  tt2488496   11.173104  200000000  2068178225   \n",
              "4  168259  tt2820852    9.335014  190000000  1506249360   \n",
              "\n",
              "                 original_title  \\\n",
              "0                Jurassic World   \n",
              "1            Mad Max: Fury Road   \n",
              "2                     Insurgent   \n",
              "3  Star Wars: The Force Awakens   \n",
              "4                     Furious 7   \n",
              "\n",
              "                                                cast  \\\n",
              "0  Chris Pratt|Bryce Dallas Howard|Irrfan Khan|Vi...   \n",
              "1  Tom Hardy|Charlize Theron|Hugh Keays-Byrne|Nic...   \n",
              "2  Shailene Woodley|Theo James|Kate Winslet|Ansel...   \n",
              "3  Harrison Ford|Mark Hamill|Carrie Fisher|Adam D...   \n",
              "4  Vin Diesel|Paul Walker|Jason Statham|Michelle ...   \n",
              "\n",
              "                                            homepage          director  \\\n",
              "0                      http://www.jurassicworld.com/   Colin Trevorrow   \n",
              "1                        http://www.madmaxmovie.com/     George Miller   \n",
              "2     http://www.thedivergentseries.movie/#insurgent  Robert Schwentke   \n",
              "3  http://www.starwars.com/films/star-wars-episod...       J.J. Abrams   \n",
              "4                           http://www.furious7.com/         James Wan   \n",
              "\n",
              "                         tagline  ...  \\\n",
              "0              The park is open.  ...   \n",
              "1             What a Lovely Day.  ...   \n",
              "2     One Choice Can Destroy You  ...   \n",
              "3  Every generation has a story.  ...   \n",
              "4            Vengeance Hits Home  ...   \n",
              "\n",
              "                                            overview runtime  \\\n",
              "0  Twenty-two years after the events of Jurassic ...     124   \n",
              "1  An apocalyptic story set in the furthest reach...     120   \n",
              "2  Beatrice Prior must confront her inner demons ...     119   \n",
              "3  Thirty years after defeating the Galactic Empi...     136   \n",
              "4  Deckard Shaw seeks revenge against Dominic Tor...     137   \n",
              "\n",
              "                                      genres  \\\n",
              "0  Action|Adventure|Science Fiction|Thriller   \n",
              "1  Action|Adventure|Science Fiction|Thriller   \n",
              "2         Adventure|Science Fiction|Thriller   \n",
              "3   Action|Adventure|Science Fiction|Fantasy   \n",
              "4                      Action|Crime|Thriller   \n",
              "\n",
              "                                production_companies release_date vote_count  \\\n",
              "0  Universal Studios|Amblin Entertainment|Legenda...       6/9/15       5562   \n",
              "1  Village Roadshow Pictures|Kennedy Miller Produ...      5/13/15       6185   \n",
              "2  Summit Entertainment|Mandeville Films|Red Wago...      3/18/15       2480   \n",
              "3          Lucasfilm|Truenorth Productions|Bad Robot     12/15/15       5292   \n",
              "4  Universal Pictures|Original Film|Media Rights ...       4/1/15       2947   \n",
              "\n",
              "   vote_average  release_year    budget_adj   revenue_adj  \n",
              "0           6.5          2015  1.379999e+08  1.392446e+09  \n",
              "1           7.1          2015  1.379999e+08  3.481613e+08  \n",
              "2           6.3          2015  1.012000e+08  2.716190e+08  \n",
              "3           7.5          2015  1.839999e+08  1.902723e+09  \n",
              "4           7.3          2015  1.747999e+08  1.385749e+09  \n",
              "\n",
              "[5 rows x 21 columns]"
            ],
            "text/html": [
              "\n",
              "  <div id=\"df-eb7000ab-3e68-47b5-aa6f-10ecc295b3aa\">\n",
              "    <div class=\"colab-df-container\">\n",
              "      <div>\n",
              "<style scoped>\n",
              "    .dataframe tbody tr th:only-of-type {\n",
              "        vertical-align: middle;\n",
              "    }\n",
              "\n",
              "    .dataframe tbody tr th {\n",
              "        vertical-align: top;\n",
              "    }\n",
              "\n",
              "    .dataframe thead th {\n",
              "        text-align: right;\n",
              "    }\n",
              "</style>\n",
              "<table border=\"1\" class=\"dataframe\">\n",
              "  <thead>\n",
              "    <tr style=\"text-align: right;\">\n",
              "      <th></th>\n",
              "      <th>id</th>\n",
              "      <th>imdb_id</th>\n",
              "      <th>popularity</th>\n",
              "      <th>budget</th>\n",
              "      <th>revenue</th>\n",
              "      <th>original_title</th>\n",
              "      <th>cast</th>\n",
              "      <th>homepage</th>\n",
              "      <th>director</th>\n",
              "      <th>tagline</th>\n",
              "      <th>...</th>\n",
              "      <th>overview</th>\n",
              "      <th>runtime</th>\n",
              "      <th>genres</th>\n",
              "      <th>production_companies</th>\n",
              "      <th>release_date</th>\n",
              "      <th>vote_count</th>\n",
              "      <th>vote_average</th>\n",
              "      <th>release_year</th>\n",
              "      <th>budget_adj</th>\n",
              "      <th>revenue_adj</th>\n",
              "    </tr>\n",
              "  </thead>\n",
              "  <tbody>\n",
              "    <tr>\n",
              "      <th>0</th>\n",
              "      <td>135397</td>\n",
              "      <td>tt0369610</td>\n",
              "      <td>32.985763</td>\n",
              "      <td>150000000</td>\n",
              "      <td>1513528810</td>\n",
              "      <td>Jurassic World</td>\n",
              "      <td>Chris Pratt|Bryce Dallas Howard|Irrfan Khan|Vi...</td>\n",
              "      <td>http://www.jurassicworld.com/</td>\n",
              "      <td>Colin Trevorrow</td>\n",
              "      <td>The park is open.</td>\n",
              "      <td>...</td>\n",
              "      <td>Twenty-two years after the events of Jurassic ...</td>\n",
              "      <td>124</td>\n",
              "      <td>Action|Adventure|Science Fiction|Thriller</td>\n",
              "      <td>Universal Studios|Amblin Entertainment|Legenda...</td>\n",
              "      <td>6/9/15</td>\n",
              "      <td>5562</td>\n",
              "      <td>6.5</td>\n",
              "      <td>2015</td>\n",
              "      <td>1.379999e+08</td>\n",
              "      <td>1.392446e+09</td>\n",
              "    </tr>\n",
              "    <tr>\n",
              "      <th>1</th>\n",
              "      <td>76341</td>\n",
              "      <td>tt1392190</td>\n",
              "      <td>28.419936</td>\n",
              "      <td>150000000</td>\n",
              "      <td>378436354</td>\n",
              "      <td>Mad Max: Fury Road</td>\n",
              "      <td>Tom Hardy|Charlize Theron|Hugh Keays-Byrne|Nic...</td>\n",
              "      <td>http://www.madmaxmovie.com/</td>\n",
              "      <td>George Miller</td>\n",
              "      <td>What a Lovely Day.</td>\n",
              "      <td>...</td>\n",
              "      <td>An apocalyptic story set in the furthest reach...</td>\n",
              "      <td>120</td>\n",
              "      <td>Action|Adventure|Science Fiction|Thriller</td>\n",
              "      <td>Village Roadshow Pictures|Kennedy Miller Produ...</td>\n",
              "      <td>5/13/15</td>\n",
              "      <td>6185</td>\n",
              "      <td>7.1</td>\n",
              "      <td>2015</td>\n",
              "      <td>1.379999e+08</td>\n",
              "      <td>3.481613e+08</td>\n",
              "    </tr>\n",
              "    <tr>\n",
              "      <th>2</th>\n",
              "      <td>262500</td>\n",
              "      <td>tt2908446</td>\n",
              "      <td>13.112507</td>\n",
              "      <td>110000000</td>\n",
              "      <td>295238201</td>\n",
              "      <td>Insurgent</td>\n",
              "      <td>Shailene Woodley|Theo James|Kate Winslet|Ansel...</td>\n",
              "      <td>http://www.thedivergentseries.movie/#insurgent</td>\n",
              "      <td>Robert Schwentke</td>\n",
              "      <td>One Choice Can Destroy You</td>\n",
              "      <td>...</td>\n",
              "      <td>Beatrice Prior must confront her inner demons ...</td>\n",
              "      <td>119</td>\n",
              "      <td>Adventure|Science Fiction|Thriller</td>\n",
              "      <td>Summit Entertainment|Mandeville Films|Red Wago...</td>\n",
              "      <td>3/18/15</td>\n",
              "      <td>2480</td>\n",
              "      <td>6.3</td>\n",
              "      <td>2015</td>\n",
              "      <td>1.012000e+08</td>\n",
              "      <td>2.716190e+08</td>\n",
              "    </tr>\n",
              "    <tr>\n",
              "      <th>3</th>\n",
              "      <td>140607</td>\n",
              "      <td>tt2488496</td>\n",
              "      <td>11.173104</td>\n",
              "      <td>200000000</td>\n",
              "      <td>2068178225</td>\n",
              "      <td>Star Wars: The Force Awakens</td>\n",
              "      <td>Harrison Ford|Mark Hamill|Carrie Fisher|Adam D...</td>\n",
              "      <td>http://www.starwars.com/films/star-wars-episod...</td>\n",
              "      <td>J.J. Abrams</td>\n",
              "      <td>Every generation has a story.</td>\n",
              "      <td>...</td>\n",
              "      <td>Thirty years after defeating the Galactic Empi...</td>\n",
              "      <td>136</td>\n",
              "      <td>Action|Adventure|Science Fiction|Fantasy</td>\n",
              "      <td>Lucasfilm|Truenorth Productions|Bad Robot</td>\n",
              "      <td>12/15/15</td>\n",
              "      <td>5292</td>\n",
              "      <td>7.5</td>\n",
              "      <td>2015</td>\n",
              "      <td>1.839999e+08</td>\n",
              "      <td>1.902723e+09</td>\n",
              "    </tr>\n",
              "    <tr>\n",
              "      <th>4</th>\n",
              "      <td>168259</td>\n",
              "      <td>tt2820852</td>\n",
              "      <td>9.335014</td>\n",
              "      <td>190000000</td>\n",
              "      <td>1506249360</td>\n",
              "      <td>Furious 7</td>\n",
              "      <td>Vin Diesel|Paul Walker|Jason Statham|Michelle ...</td>\n",
              "      <td>http://www.furious7.com/</td>\n",
              "      <td>James Wan</td>\n",
              "      <td>Vengeance Hits Home</td>\n",
              "      <td>...</td>\n",
              "      <td>Deckard Shaw seeks revenge against Dominic Tor...</td>\n",
              "      <td>137</td>\n",
              "      <td>Action|Crime|Thriller</td>\n",
              "      <td>Universal Pictures|Original Film|Media Rights ...</td>\n",
              "      <td>4/1/15</td>\n",
              "      <td>2947</td>\n",
              "      <td>7.3</td>\n",
              "      <td>2015</td>\n",
              "      <td>1.747999e+08</td>\n",
              "      <td>1.385749e+09</td>\n",
              "    </tr>\n",
              "  </tbody>\n",
              "</table>\n",
              "<p>5 rows × 21 columns</p>\n",
              "</div>\n",
              "      <button class=\"colab-df-convert\" onclick=\"convertToInteractive('df-eb7000ab-3e68-47b5-aa6f-10ecc295b3aa')\"\n",
              "              title=\"Convert this dataframe to an interactive table.\"\n",
              "              style=\"display:none;\">\n",
              "        \n",
              "  <svg xmlns=\"http://www.w3.org/2000/svg\" height=\"24px\"viewBox=\"0 0 24 24\"\n",
              "       width=\"24px\">\n",
              "    <path d=\"M0 0h24v24H0V0z\" fill=\"none\"/>\n",
              "    <path d=\"M18.56 5.44l.94 2.06.94-2.06 2.06-.94-2.06-.94-.94-2.06-.94 2.06-2.06.94zm-11 1L8.5 8.5l.94-2.06 2.06-.94-2.06-.94L8.5 2.5l-.94 2.06-2.06.94zm10 10l.94 2.06.94-2.06 2.06-.94-2.06-.94-.94-2.06-.94 2.06-2.06.94z\"/><path d=\"M17.41 7.96l-1.37-1.37c-.4-.4-.92-.59-1.43-.59-.52 0-1.04.2-1.43.59L10.3 9.45l-7.72 7.72c-.78.78-.78 2.05 0 2.83L4 21.41c.39.39.9.59 1.41.59.51 0 1.02-.2 1.41-.59l7.78-7.78 2.81-2.81c.8-.78.8-2.07 0-2.86zM5.41 20L4 18.59l7.72-7.72 1.47 1.35L5.41 20z\"/>\n",
              "  </svg>\n",
              "      </button>\n",
              "      \n",
              "  <style>\n",
              "    .colab-df-container {\n",
              "      display:flex;\n",
              "      flex-wrap:wrap;\n",
              "      gap: 12px;\n",
              "    }\n",
              "\n",
              "    .colab-df-convert {\n",
              "      background-color: #E8F0FE;\n",
              "      border: none;\n",
              "      border-radius: 50%;\n",
              "      cursor: pointer;\n",
              "      display: none;\n",
              "      fill: #1967D2;\n",
              "      height: 32px;\n",
              "      padding: 0 0 0 0;\n",
              "      width: 32px;\n",
              "    }\n",
              "\n",
              "    .colab-df-convert:hover {\n",
              "      background-color: #E2EBFA;\n",
              "      box-shadow: 0px 1px 2px rgba(60, 64, 67, 0.3), 0px 1px 3px 1px rgba(60, 64, 67, 0.15);\n",
              "      fill: #174EA6;\n",
              "    }\n",
              "\n",
              "    [theme=dark] .colab-df-convert {\n",
              "      background-color: #3B4455;\n",
              "      fill: #D2E3FC;\n",
              "    }\n",
              "\n",
              "    [theme=dark] .colab-df-convert:hover {\n",
              "      background-color: #434B5C;\n",
              "      box-shadow: 0px 1px 3px 1px rgba(0, 0, 0, 0.15);\n",
              "      filter: drop-shadow(0px 1px 2px rgba(0, 0, 0, 0.3));\n",
              "      fill: #FFFFFF;\n",
              "    }\n",
              "  </style>\n",
              "\n",
              "      <script>\n",
              "        const buttonEl =\n",
              "          document.querySelector('#df-eb7000ab-3e68-47b5-aa6f-10ecc295b3aa button.colab-df-convert');\n",
              "        buttonEl.style.display =\n",
              "          google.colab.kernel.accessAllowed ? 'block' : 'none';\n",
              "\n",
              "        async function convertToInteractive(key) {\n",
              "          const element = document.querySelector('#df-eb7000ab-3e68-47b5-aa6f-10ecc295b3aa');\n",
              "          const dataTable =\n",
              "            await google.colab.kernel.invokeFunction('convertToInteractive',\n",
              "                                                     [key], {});\n",
              "          if (!dataTable) return;\n",
              "\n",
              "          const docLinkHtml = 'Like what you see? Visit the ' +\n",
              "            '<a target=\"_blank\" href=https://colab.research.google.com/notebooks/data_table.ipynb>data table notebook</a>'\n",
              "            + ' to learn more about interactive tables.';\n",
              "          element.innerHTML = '';\n",
              "          dataTable['output_type'] = 'display_data';\n",
              "          await google.colab.output.renderOutput(dataTable, element);\n",
              "          const docLink = document.createElement('div');\n",
              "          docLink.innerHTML = docLinkHtml;\n",
              "          element.appendChild(docLink);\n",
              "        }\n",
              "      </script>\n",
              "    </div>\n",
              "  </div>\n",
              "  "
            ]
          },
          "metadata": {},
          "execution_count": 12
        }
      ]
    },
    {
      "cell_type": "code",
      "source": [
        "# how many rows and columns are in the data\n",
        "df.shape"
      ],
      "metadata": {
        "colab": {
          "base_uri": "https://localhost:8080/"
        },
        "id": "kkBXDVlH6rbf",
        "outputId": "d07a96f9-a9b8-4aa5-e703-936b89abf71b"
      },
      "execution_count": 13,
      "outputs": [
        {
          "output_type": "execute_result",
          "data": {
            "text/plain": [
              "(10866, 21)"
            ]
          },
          "metadata": {},
          "execution_count": 13
        }
      ]
    },
    {
      "cell_type": "code",
      "execution_count": 14,
      "metadata": {
        "colab": {
          "base_uri": "https://localhost:8080/"
        },
        "id": "KUq_vI8Ar9sv",
        "outputId": "08809c86-05dc-427b-cf73-dbe23524146e"
      },
      "outputs": [
        {
          "output_type": "stream",
          "name": "stdout",
          "text": [
            "<class 'pandas.core.frame.DataFrame'>\n",
            "RangeIndex: 10866 entries, 0 to 10865\n",
            "Data columns (total 21 columns):\n",
            " #   Column                Non-Null Count  Dtype  \n",
            "---  ------                --------------  -----  \n",
            " 0   id                    10866 non-null  int64  \n",
            " 1   imdb_id               10856 non-null  object \n",
            " 2   popularity            10866 non-null  float64\n",
            " 3   budget                10866 non-null  int64  \n",
            " 4   revenue               10866 non-null  int64  \n",
            " 5   original_title        10866 non-null  object \n",
            " 6   cast                  10790 non-null  object \n",
            " 7   homepage              2936 non-null   object \n",
            " 8   director              10822 non-null  object \n",
            " 9   tagline               8042 non-null   object \n",
            " 10  keywords              9373 non-null   object \n",
            " 11  overview              10862 non-null  object \n",
            " 12  runtime               10866 non-null  int64  \n",
            " 13  genres                10843 non-null  object \n",
            " 14  production_companies  9836 non-null   object \n",
            " 15  release_date          10866 non-null  object \n",
            " 16  vote_count            10866 non-null  int64  \n",
            " 17  vote_average          10866 non-null  float64\n",
            " 18  release_year          10866 non-null  int64  \n",
            " 19  budget_adj            10866 non-null  float64\n",
            " 20  revenue_adj           10866 non-null  float64\n",
            "dtypes: float64(4), int64(6), object(11)\n",
            "memory usage: 1.7+ MB\n"
          ]
        }
      ],
      "source": [
        "# a glimpse of columns datatype and missing values\n",
        "df.info()"
      ]
    },
    {
      "cell_type": "code",
      "execution_count": 15,
      "metadata": {
        "colab": {
          "base_uri": "https://localhost:8080/",
          "height": 364
        },
        "id": "-4tnjuYbr9sv",
        "outputId": "20cc2325-91cb-40ac-a059-44da1a552bba"
      },
      "outputs": [
        {
          "output_type": "execute_result",
          "data": {
            "text/plain": [
              "                  id    popularity        budget       revenue       runtime  \\\n",
              "count   10866.000000  10866.000000  1.086600e+04  1.086600e+04  10866.000000   \n",
              "mean    66064.177434      0.646441  1.462570e+07  3.982332e+07    102.070863   \n",
              "std     92130.136561      1.000185  3.091321e+07  1.170035e+08     31.381405   \n",
              "min         5.000000      0.000065  0.000000e+00  0.000000e+00      0.000000   \n",
              "25%     10596.250000      0.207583  0.000000e+00  0.000000e+00     90.000000   \n",
              "50%     20669.000000      0.383856  0.000000e+00  0.000000e+00     99.000000   \n",
              "75%     75610.000000      0.713817  1.500000e+07  2.400000e+07    111.000000   \n",
              "max    417859.000000     32.985763  4.250000e+08  2.781506e+09    900.000000   \n",
              "\n",
              "         vote_count  vote_average  release_year    budget_adj   revenue_adj  \n",
              "count  10866.000000  10866.000000  10866.000000  1.086600e+04  1.086600e+04  \n",
              "mean     217.389748      5.974922   2001.322658  1.755104e+07  5.136436e+07  \n",
              "std      575.619058      0.935142     12.812941  3.430616e+07  1.446325e+08  \n",
              "min       10.000000      1.500000   1960.000000  0.000000e+00  0.000000e+00  \n",
              "25%       17.000000      5.400000   1995.000000  0.000000e+00  0.000000e+00  \n",
              "50%       38.000000      6.000000   2006.000000  0.000000e+00  0.000000e+00  \n",
              "75%      145.750000      6.600000   2011.000000  2.085325e+07  3.369710e+07  \n",
              "max     9767.000000      9.200000   2015.000000  4.250000e+08  2.827124e+09  "
            ],
            "text/html": [
              "\n",
              "  <div id=\"df-51c1cea6-2223-424e-8e5b-bdabab4cd024\">\n",
              "    <div class=\"colab-df-container\">\n",
              "      <div>\n",
              "<style scoped>\n",
              "    .dataframe tbody tr th:only-of-type {\n",
              "        vertical-align: middle;\n",
              "    }\n",
              "\n",
              "    .dataframe tbody tr th {\n",
              "        vertical-align: top;\n",
              "    }\n",
              "\n",
              "    .dataframe thead th {\n",
              "        text-align: right;\n",
              "    }\n",
              "</style>\n",
              "<table border=\"1\" class=\"dataframe\">\n",
              "  <thead>\n",
              "    <tr style=\"text-align: right;\">\n",
              "      <th></th>\n",
              "      <th>id</th>\n",
              "      <th>popularity</th>\n",
              "      <th>budget</th>\n",
              "      <th>revenue</th>\n",
              "      <th>runtime</th>\n",
              "      <th>vote_count</th>\n",
              "      <th>vote_average</th>\n",
              "      <th>release_year</th>\n",
              "      <th>budget_adj</th>\n",
              "      <th>revenue_adj</th>\n",
              "    </tr>\n",
              "  </thead>\n",
              "  <tbody>\n",
              "    <tr>\n",
              "      <th>count</th>\n",
              "      <td>10866.000000</td>\n",
              "      <td>10866.000000</td>\n",
              "      <td>1.086600e+04</td>\n",
              "      <td>1.086600e+04</td>\n",
              "      <td>10866.000000</td>\n",
              "      <td>10866.000000</td>\n",
              "      <td>10866.000000</td>\n",
              "      <td>10866.000000</td>\n",
              "      <td>1.086600e+04</td>\n",
              "      <td>1.086600e+04</td>\n",
              "    </tr>\n",
              "    <tr>\n",
              "      <th>mean</th>\n",
              "      <td>66064.177434</td>\n",
              "      <td>0.646441</td>\n",
              "      <td>1.462570e+07</td>\n",
              "      <td>3.982332e+07</td>\n",
              "      <td>102.070863</td>\n",
              "      <td>217.389748</td>\n",
              "      <td>5.974922</td>\n",
              "      <td>2001.322658</td>\n",
              "      <td>1.755104e+07</td>\n",
              "      <td>5.136436e+07</td>\n",
              "    </tr>\n",
              "    <tr>\n",
              "      <th>std</th>\n",
              "      <td>92130.136561</td>\n",
              "      <td>1.000185</td>\n",
              "      <td>3.091321e+07</td>\n",
              "      <td>1.170035e+08</td>\n",
              "      <td>31.381405</td>\n",
              "      <td>575.619058</td>\n",
              "      <td>0.935142</td>\n",
              "      <td>12.812941</td>\n",
              "      <td>3.430616e+07</td>\n",
              "      <td>1.446325e+08</td>\n",
              "    </tr>\n",
              "    <tr>\n",
              "      <th>min</th>\n",
              "      <td>5.000000</td>\n",
              "      <td>0.000065</td>\n",
              "      <td>0.000000e+00</td>\n",
              "      <td>0.000000e+00</td>\n",
              "      <td>0.000000</td>\n",
              "      <td>10.000000</td>\n",
              "      <td>1.500000</td>\n",
              "      <td>1960.000000</td>\n",
              "      <td>0.000000e+00</td>\n",
              "      <td>0.000000e+00</td>\n",
              "    </tr>\n",
              "    <tr>\n",
              "      <th>25%</th>\n",
              "      <td>10596.250000</td>\n",
              "      <td>0.207583</td>\n",
              "      <td>0.000000e+00</td>\n",
              "      <td>0.000000e+00</td>\n",
              "      <td>90.000000</td>\n",
              "      <td>17.000000</td>\n",
              "      <td>5.400000</td>\n",
              "      <td>1995.000000</td>\n",
              "      <td>0.000000e+00</td>\n",
              "      <td>0.000000e+00</td>\n",
              "    </tr>\n",
              "    <tr>\n",
              "      <th>50%</th>\n",
              "      <td>20669.000000</td>\n",
              "      <td>0.383856</td>\n",
              "      <td>0.000000e+00</td>\n",
              "      <td>0.000000e+00</td>\n",
              "      <td>99.000000</td>\n",
              "      <td>38.000000</td>\n",
              "      <td>6.000000</td>\n",
              "      <td>2006.000000</td>\n",
              "      <td>0.000000e+00</td>\n",
              "      <td>0.000000e+00</td>\n",
              "    </tr>\n",
              "    <tr>\n",
              "      <th>75%</th>\n",
              "      <td>75610.000000</td>\n",
              "      <td>0.713817</td>\n",
              "      <td>1.500000e+07</td>\n",
              "      <td>2.400000e+07</td>\n",
              "      <td>111.000000</td>\n",
              "      <td>145.750000</td>\n",
              "      <td>6.600000</td>\n",
              "      <td>2011.000000</td>\n",
              "      <td>2.085325e+07</td>\n",
              "      <td>3.369710e+07</td>\n",
              "    </tr>\n",
              "    <tr>\n",
              "      <th>max</th>\n",
              "      <td>417859.000000</td>\n",
              "      <td>32.985763</td>\n",
              "      <td>4.250000e+08</td>\n",
              "      <td>2.781506e+09</td>\n",
              "      <td>900.000000</td>\n",
              "      <td>9767.000000</td>\n",
              "      <td>9.200000</td>\n",
              "      <td>2015.000000</td>\n",
              "      <td>4.250000e+08</td>\n",
              "      <td>2.827124e+09</td>\n",
              "    </tr>\n",
              "  </tbody>\n",
              "</table>\n",
              "</div>\n",
              "      <button class=\"colab-df-convert\" onclick=\"convertToInteractive('df-51c1cea6-2223-424e-8e5b-bdabab4cd024')\"\n",
              "              title=\"Convert this dataframe to an interactive table.\"\n",
              "              style=\"display:none;\">\n",
              "        \n",
              "  <svg xmlns=\"http://www.w3.org/2000/svg\" height=\"24px\"viewBox=\"0 0 24 24\"\n",
              "       width=\"24px\">\n",
              "    <path d=\"M0 0h24v24H0V0z\" fill=\"none\"/>\n",
              "    <path d=\"M18.56 5.44l.94 2.06.94-2.06 2.06-.94-2.06-.94-.94-2.06-.94 2.06-2.06.94zm-11 1L8.5 8.5l.94-2.06 2.06-.94-2.06-.94L8.5 2.5l-.94 2.06-2.06.94zm10 10l.94 2.06.94-2.06 2.06-.94-2.06-.94-.94-2.06-.94 2.06-2.06.94z\"/><path d=\"M17.41 7.96l-1.37-1.37c-.4-.4-.92-.59-1.43-.59-.52 0-1.04.2-1.43.59L10.3 9.45l-7.72 7.72c-.78.78-.78 2.05 0 2.83L4 21.41c.39.39.9.59 1.41.59.51 0 1.02-.2 1.41-.59l7.78-7.78 2.81-2.81c.8-.78.8-2.07 0-2.86zM5.41 20L4 18.59l7.72-7.72 1.47 1.35L5.41 20z\"/>\n",
              "  </svg>\n",
              "      </button>\n",
              "      \n",
              "  <style>\n",
              "    .colab-df-container {\n",
              "      display:flex;\n",
              "      flex-wrap:wrap;\n",
              "      gap: 12px;\n",
              "    }\n",
              "\n",
              "    .colab-df-convert {\n",
              "      background-color: #E8F0FE;\n",
              "      border: none;\n",
              "      border-radius: 50%;\n",
              "      cursor: pointer;\n",
              "      display: none;\n",
              "      fill: #1967D2;\n",
              "      height: 32px;\n",
              "      padding: 0 0 0 0;\n",
              "      width: 32px;\n",
              "    }\n",
              "\n",
              "    .colab-df-convert:hover {\n",
              "      background-color: #E2EBFA;\n",
              "      box-shadow: 0px 1px 2px rgba(60, 64, 67, 0.3), 0px 1px 3px 1px rgba(60, 64, 67, 0.15);\n",
              "      fill: #174EA6;\n",
              "    }\n",
              "\n",
              "    [theme=dark] .colab-df-convert {\n",
              "      background-color: #3B4455;\n",
              "      fill: #D2E3FC;\n",
              "    }\n",
              "\n",
              "    [theme=dark] .colab-df-convert:hover {\n",
              "      background-color: #434B5C;\n",
              "      box-shadow: 0px 1px 3px 1px rgba(0, 0, 0, 0.15);\n",
              "      filter: drop-shadow(0px 1px 2px rgba(0, 0, 0, 0.3));\n",
              "      fill: #FFFFFF;\n",
              "    }\n",
              "  </style>\n",
              "\n",
              "      <script>\n",
              "        const buttonEl =\n",
              "          document.querySelector('#df-51c1cea6-2223-424e-8e5b-bdabab4cd024 button.colab-df-convert');\n",
              "        buttonEl.style.display =\n",
              "          google.colab.kernel.accessAllowed ? 'block' : 'none';\n",
              "\n",
              "        async function convertToInteractive(key) {\n",
              "          const element = document.querySelector('#df-51c1cea6-2223-424e-8e5b-bdabab4cd024');\n",
              "          const dataTable =\n",
              "            await google.colab.kernel.invokeFunction('convertToInteractive',\n",
              "                                                     [key], {});\n",
              "          if (!dataTable) return;\n",
              "\n",
              "          const docLinkHtml = 'Like what you see? Visit the ' +\n",
              "            '<a target=\"_blank\" href=https://colab.research.google.com/notebooks/data_table.ipynb>data table notebook</a>'\n",
              "            + ' to learn more about interactive tables.';\n",
              "          element.innerHTML = '';\n",
              "          dataTable['output_type'] = 'display_data';\n",
              "          await google.colab.output.renderOutput(dataTable, element);\n",
              "          const docLink = document.createElement('div');\n",
              "          docLink.innerHTML = docLinkHtml;\n",
              "          element.appendChild(docLink);\n",
              "        }\n",
              "      </script>\n",
              "    </div>\n",
              "  </div>\n",
              "  "
            ]
          },
          "metadata": {},
          "execution_count": 15
        }
      ],
      "source": [
        "df.describe()"
      ]
    },
    {
      "cell_type": "code",
      "execution_count": 16,
      "metadata": {
        "colab": {
          "base_uri": "https://localhost:8080/"
        },
        "id": "o8zcYtY9r9sw",
        "outputId": "343facbc-9794-4fb1-9325-6bb942535226"
      },
      "outputs": [
        {
          "output_type": "execute_result",
          "data": {
            "text/plain": [
              "id                         0\n",
              "imdb_id                   10\n",
              "popularity                 0\n",
              "budget                     0\n",
              "revenue                    0\n",
              "original_title             0\n",
              "cast                      76\n",
              "homepage                7930\n",
              "director                  44\n",
              "tagline                 2824\n",
              "keywords                1493\n",
              "overview                   4\n",
              "runtime                    0\n",
              "genres                    23\n",
              "production_companies    1030\n",
              "release_date               0\n",
              "vote_count                 0\n",
              "vote_average               0\n",
              "release_year               0\n",
              "budget_adj                 0\n",
              "revenue_adj                0\n",
              "dtype: int64"
            ]
          },
          "metadata": {},
          "execution_count": 16
        }
      ],
      "source": [
        "# check for missing data\n",
        "df.isnull().sum()"
      ]
    },
    {
      "cell_type": "code",
      "execution_count": 17,
      "metadata": {
        "colab": {
          "base_uri": "https://localhost:8080/"
        },
        "id": "m2630UyHr9sw",
        "outputId": "ba802172-285e-446a-c634-0e2d675f8b14"
      },
      "outputs": [
        {
          "output_type": "execute_result",
          "data": {
            "text/plain": [
              "1"
            ]
          },
          "metadata": {},
          "execution_count": 17
        }
      ],
      "source": [
        "# check for duplicate data\n",
        "df.duplicated().sum()"
      ]
    },
    {
      "cell_type": "code",
      "source": [
        "# check the minimim value in the budget and revenue columns\n",
        "print(df.budget.unique().min())\n",
        "print(df.revenue.unique().min())"
      ],
      "metadata": {
        "colab": {
          "base_uri": "https://localhost:8080/"
        },
        "id": "s75rUYKrDleF",
        "outputId": "1dd0f511-90a8-4fba-bf5e-0c28a81e1435"
      },
      "execution_count": 18,
      "outputs": [
        {
          "output_type": "stream",
          "name": "stdout",
          "text": [
            "0\n",
            "0\n"
          ]
        }
      ]
    },
    {
      "cell_type": "markdown",
      "source": [
        "### Data assising cell: \n",
        "From data exploring that we did above here is our note:\n",
        "1. we have ten unwanted columns:\n",
        "> 1. 'imdb_id'\n",
        "> 2.'homepage'\n",
        "> 3.'cast'\n",
        "> 4.'keywords'\n",
        "> 5.'tagline'\n",
        "> 6.'production_companies'\n",
        "> 7.'overview'\n",
        "> 8.'release_date'\n",
        "> 9.'budget_adj'\n",
        "> 10.'revenue_adj'\n",
        "\n",
        "\n",
        "2. Some columns have wrong values:\n",
        "> *revenue and budget* column have 0 values which is impossible.\n",
        "\n",
        "3. Some columns have missing values:\n",
        "> 1. director\n",
        "> 2. genres\n",
        "\n",
        "4. There are one duplicated row \n",
        "\n",
        "\n",
        "5. Column with multiple values:\n",
        ">genres column has multiple values separated by |.\n",
        "\n",
        "----\n",
        "\n",
        "\n"
      ],
      "metadata": {
        "id": "vy8wMCf03qy2"
      }
    },
    {
      "cell_type": "markdown",
      "metadata": {
        "id": "TmKqndcJr9sx"
      },
      "source": [
        "### Cleaning Data \n",
        "####***First problem:*** unwanted columns\n",
        "> drop the ten unwanted columns\n",
        "\n"
      ]
    },
    {
      "cell_type": "code",
      "execution_count": 19,
      "metadata": {
        "id": "EM0HpGL7r9sx"
      },
      "outputs": [],
      "source": [
        "# drop columns that don't have important information for helping me in the analysis \n",
        "column_list=['imdb_id','homepage','cast','keywords','tagline','production_companies'\n",
        "        ,'overview','release_date','budget_adj','revenue_adj']\n",
        "      \n",
        "df.drop(column_list,axis=1,inplace=True)"
      ]
    },
    {
      "cell_type": "code",
      "source": [
        "# checking \n",
        "df.info()"
      ],
      "metadata": {
        "colab": {
          "base_uri": "https://localhost:8080/"
        },
        "id": "wZFOHX7tBGw5",
        "outputId": "9be1fd61-ca53-4ec0-f479-749344ee4d6f"
      },
      "execution_count": 20,
      "outputs": [
        {
          "output_type": "stream",
          "name": "stdout",
          "text": [
            "<class 'pandas.core.frame.DataFrame'>\n",
            "RangeIndex: 10866 entries, 0 to 10865\n",
            "Data columns (total 11 columns):\n",
            " #   Column          Non-Null Count  Dtype  \n",
            "---  ------          --------------  -----  \n",
            " 0   id              10866 non-null  int64  \n",
            " 1   popularity      10866 non-null  float64\n",
            " 2   budget          10866 non-null  int64  \n",
            " 3   revenue         10866 non-null  int64  \n",
            " 4   original_title  10866 non-null  object \n",
            " 5   director        10822 non-null  object \n",
            " 6   runtime         10866 non-null  int64  \n",
            " 7   genres          10843 non-null  object \n",
            " 8   vote_count      10866 non-null  int64  \n",
            " 9   vote_average    10866 non-null  float64\n",
            " 10  release_year    10866 non-null  int64  \n",
            "dtypes: float64(2), int64(6), object(3)\n",
            "memory usage: 933.9+ KB\n"
          ]
        }
      ]
    },
    {
      "cell_type": "code",
      "source": [
        "# check that the columns deleted correctly\n",
        "df.shape"
      ],
      "metadata": {
        "colab": {
          "base_uri": "https://localhost:8080/"
        },
        "id": "jKiovmxH7Al-",
        "outputId": "794e377a-f500-48b9-d3dd-5de93b93b998"
      },
      "execution_count": 21,
      "outputs": [
        {
          "output_type": "execute_result",
          "data": {
            "text/plain": [
              "(10866, 11)"
            ]
          },
          "metadata": {},
          "execution_count": 21
        }
      ]
    },
    {
      "cell_type": "markdown",
      "source": [
        "####***Second problem:*** *revenue and budget* columns have wrong values\n",
        "> fix this problem by replacing zeros with the mean of the column values\n"
      ],
      "metadata": {
        "id": "6TMHsI96Jw3t"
      }
    },
    {
      "cell_type": "code",
      "execution_count": 22,
      "metadata": {
        "id": "-z87DVN6r9sx"
      },
      "outputs": [],
      "source": [
        "# replace 0s by mean in poth revenue and budget columns\n",
        "revenue_mean = df['revenue'].mean()\n",
        "budget_mean = df['budget'].mean()\n",
        "\n",
        "df['revenue']=df['revenue'].replace(0,revenue_mean)\n",
        "df['budget']=df['budget'].replace(0,budget_mean)"
      ]
    },
    {
      "cell_type": "markdown",
      "source": [
        "####***Third problem:*** *director and genres* columns have missing values\n",
        "> removing rows with missing values in this two-column since they are not too many missing values, will have no effect on the analysis results"
      ],
      "metadata": {
        "id": "2a84AGmXMQ_x"
      }
    },
    {
      "cell_type": "code",
      "source": [
        "# check for missing values\n",
        "df.isna().sum()"
      ],
      "metadata": {
        "colab": {
          "base_uri": "https://localhost:8080/"
        },
        "id": "YAHDnJcV-I7w",
        "outputId": "5510c6b4-c9ca-43ed-c5f9-cfa24e13ad12"
      },
      "execution_count": 23,
      "outputs": [
        {
          "output_type": "execute_result",
          "data": {
            "text/plain": [
              "id                 0\n",
              "popularity         0\n",
              "budget             0\n",
              "revenue            0\n",
              "original_title     0\n",
              "director          44\n",
              "runtime            0\n",
              "genres            23\n",
              "vote_count         0\n",
              "vote_average       0\n",
              "release_year       0\n",
              "dtype: int64"
            ]
          },
          "metadata": {},
          "execution_count": 23
        }
      ]
    },
    {
      "cell_type": "code",
      "execution_count": 24,
      "metadata": {
        "colab": {
          "base_uri": "https://localhost:8080/"
        },
        "id": "3YpA7xLcr9sx",
        "outputId": "78a8c91c-7439-4364-aff2-5cf62083e86e"
      },
      "outputs": [
        {
          "output_type": "execute_result",
          "data": {
            "text/plain": [
              "id                0\n",
              "popularity        0\n",
              "budget            0\n",
              "revenue           0\n",
              "original_title    0\n",
              "director          0\n",
              "runtime           0\n",
              "genres            0\n",
              "vote_count        0\n",
              "vote_average      0\n",
              "release_year      0\n",
              "dtype: int64"
            ]
          },
          "metadata": {},
          "execution_count": 24
        }
      ],
      "source": [
        "# drop missing values and check\n",
        "df.dropna(inplace=True)\n",
        "df.isnull().sum()"
      ]
    },
    {
      "cell_type": "markdown",
      "source": [
        "####***Fourth problem:*** There are one duplicate row\n",
        "> drop the duplicate row"
      ],
      "metadata": {
        "id": "yNiJpl8HM0Jz"
      }
    },
    {
      "cell_type": "code",
      "source": [
        "# check for duplicate rows\n",
        "df.duplicated().sum()"
      ],
      "metadata": {
        "colab": {
          "base_uri": "https://localhost:8080/"
        },
        "id": "Pg9HB-oU8KAa",
        "outputId": "f25bb217-b0ed-4681-94b9-86eda02fa08e"
      },
      "execution_count": 25,
      "outputs": [
        {
          "output_type": "execute_result",
          "data": {
            "text/plain": [
              "1"
            ]
          },
          "metadata": {},
          "execution_count": 25
        }
      ]
    },
    {
      "cell_type": "code",
      "execution_count": 26,
      "metadata": {
        "colab": {
          "base_uri": "https://localhost:8080/"
        },
        "id": "bZX_IvMLr9sy",
        "outputId": "01d09a21-fc6e-43c5-e56f-8e110ffe040f"
      },
      "outputs": [
        {
          "output_type": "execute_result",
          "data": {
            "text/plain": [
              "0"
            ]
          },
          "metadata": {},
          "execution_count": 26
        }
      ],
      "source": [
        "# drop duplicated rows and check\n",
        "df.drop_duplicates(inplace=True)\n",
        "df.duplicated().sum()"
      ]
    },
    {
      "cell_type": "markdown",
      "source": [
        "####***Fifth problem:*** *genres* column has multiple values\n",
        "> transform the *genres* column to make it easier to work with.\n",
        "> we can't group movies by one specific genre with the currently *genres* column values\n",
        "\n",
        ">we will follow these steps:\n",
        "1. turn the strings on the genres column into a list.\n",
        "2. create a new table by separating the items of the genres column\n",
        "3. merge the two tables.\n",
        "4. pivot the genre values so that they are presented in their rows instead of columns.\n",
        "5. remove the original *genres and variable* columns (unnecessary columns for analysis).\n",
        "6. drop all rows with missing values.\n"
      ],
      "metadata": {
        "id": "d6FYKqBF0Jse"
      }
    },
    {
      "cell_type": "code",
      "source": [
        "#turn string into list\n",
        "df['genres']=df['genres'].str.split(\"|\")"
      ],
      "metadata": {
        "id": "97uODjHyVRPa"
      },
      "execution_count": 27,
      "outputs": []
    },
    {
      "cell_type": "code",
      "source": [
        "# checking\n",
        "df.head()"
      ],
      "metadata": {
        "colab": {
          "base_uri": "https://localhost:8080/",
          "height": 565
        },
        "id": "_duDmaRy6dSC",
        "outputId": "b678c6b3-0da0-49ec-8232-e63d06976515"
      },
      "execution_count": 28,
      "outputs": [
        {
          "output_type": "execute_result",
          "data": {
            "text/plain": [
              "       id  popularity       budget       revenue  \\\n",
              "0  135397   32.985763  150000000.0  1.513529e+09   \n",
              "1   76341   28.419936  150000000.0  3.784364e+08   \n",
              "2  262500   13.112507  110000000.0  2.952382e+08   \n",
              "3  140607   11.173104  200000000.0  2.068178e+09   \n",
              "4  168259    9.335014  190000000.0  1.506249e+09   \n",
              "\n",
              "                 original_title          director  runtime  \\\n",
              "0                Jurassic World   Colin Trevorrow      124   \n",
              "1            Mad Max: Fury Road     George Miller      120   \n",
              "2                     Insurgent  Robert Schwentke      119   \n",
              "3  Star Wars: The Force Awakens       J.J. Abrams      136   \n",
              "4                     Furious 7         James Wan      137   \n",
              "\n",
              "                                           genres  vote_count  vote_average  \\\n",
              "0  [Action, Adventure, Science Fiction, Thriller]        5562           6.5   \n",
              "1  [Action, Adventure, Science Fiction, Thriller]        6185           7.1   \n",
              "2          [Adventure, Science Fiction, Thriller]        2480           6.3   \n",
              "3   [Action, Adventure, Science Fiction, Fantasy]        5292           7.5   \n",
              "4                       [Action, Crime, Thriller]        2947           7.3   \n",
              "\n",
              "   release_year  \n",
              "0          2015  \n",
              "1          2015  \n",
              "2          2015  \n",
              "3          2015  \n",
              "4          2015  "
            ],
            "text/html": [
              "\n",
              "  <div id=\"df-87c4737b-dbb4-4ba2-b595-eb0ca978308b\">\n",
              "    <div class=\"colab-df-container\">\n",
              "      <div>\n",
              "<style scoped>\n",
              "    .dataframe tbody tr th:only-of-type {\n",
              "        vertical-align: middle;\n",
              "    }\n",
              "\n",
              "    .dataframe tbody tr th {\n",
              "        vertical-align: top;\n",
              "    }\n",
              "\n",
              "    .dataframe thead th {\n",
              "        text-align: right;\n",
              "    }\n",
              "</style>\n",
              "<table border=\"1\" class=\"dataframe\">\n",
              "  <thead>\n",
              "    <tr style=\"text-align: right;\">\n",
              "      <th></th>\n",
              "      <th>id</th>\n",
              "      <th>popularity</th>\n",
              "      <th>budget</th>\n",
              "      <th>revenue</th>\n",
              "      <th>original_title</th>\n",
              "      <th>director</th>\n",
              "      <th>runtime</th>\n",
              "      <th>genres</th>\n",
              "      <th>vote_count</th>\n",
              "      <th>vote_average</th>\n",
              "      <th>release_year</th>\n",
              "    </tr>\n",
              "  </thead>\n",
              "  <tbody>\n",
              "    <tr>\n",
              "      <th>0</th>\n",
              "      <td>135397</td>\n",
              "      <td>32.985763</td>\n",
              "      <td>150000000.0</td>\n",
              "      <td>1.513529e+09</td>\n",
              "      <td>Jurassic World</td>\n",
              "      <td>Colin Trevorrow</td>\n",
              "      <td>124</td>\n",
              "      <td>[Action, Adventure, Science Fiction, Thriller]</td>\n",
              "      <td>5562</td>\n",
              "      <td>6.5</td>\n",
              "      <td>2015</td>\n",
              "    </tr>\n",
              "    <tr>\n",
              "      <th>1</th>\n",
              "      <td>76341</td>\n",
              "      <td>28.419936</td>\n",
              "      <td>150000000.0</td>\n",
              "      <td>3.784364e+08</td>\n",
              "      <td>Mad Max: Fury Road</td>\n",
              "      <td>George Miller</td>\n",
              "      <td>120</td>\n",
              "      <td>[Action, Adventure, Science Fiction, Thriller]</td>\n",
              "      <td>6185</td>\n",
              "      <td>7.1</td>\n",
              "      <td>2015</td>\n",
              "    </tr>\n",
              "    <tr>\n",
              "      <th>2</th>\n",
              "      <td>262500</td>\n",
              "      <td>13.112507</td>\n",
              "      <td>110000000.0</td>\n",
              "      <td>2.952382e+08</td>\n",
              "      <td>Insurgent</td>\n",
              "      <td>Robert Schwentke</td>\n",
              "      <td>119</td>\n",
              "      <td>[Adventure, Science Fiction, Thriller]</td>\n",
              "      <td>2480</td>\n",
              "      <td>6.3</td>\n",
              "      <td>2015</td>\n",
              "    </tr>\n",
              "    <tr>\n",
              "      <th>3</th>\n",
              "      <td>140607</td>\n",
              "      <td>11.173104</td>\n",
              "      <td>200000000.0</td>\n",
              "      <td>2.068178e+09</td>\n",
              "      <td>Star Wars: The Force Awakens</td>\n",
              "      <td>J.J. Abrams</td>\n",
              "      <td>136</td>\n",
              "      <td>[Action, Adventure, Science Fiction, Fantasy]</td>\n",
              "      <td>5292</td>\n",
              "      <td>7.5</td>\n",
              "      <td>2015</td>\n",
              "    </tr>\n",
              "    <tr>\n",
              "      <th>4</th>\n",
              "      <td>168259</td>\n",
              "      <td>9.335014</td>\n",
              "      <td>190000000.0</td>\n",
              "      <td>1.506249e+09</td>\n",
              "      <td>Furious 7</td>\n",
              "      <td>James Wan</td>\n",
              "      <td>137</td>\n",
              "      <td>[Action, Crime, Thriller]</td>\n",
              "      <td>2947</td>\n",
              "      <td>7.3</td>\n",
              "      <td>2015</td>\n",
              "    </tr>\n",
              "  </tbody>\n",
              "</table>\n",
              "</div>\n",
              "      <button class=\"colab-df-convert\" onclick=\"convertToInteractive('df-87c4737b-dbb4-4ba2-b595-eb0ca978308b')\"\n",
              "              title=\"Convert this dataframe to an interactive table.\"\n",
              "              style=\"display:none;\">\n",
              "        \n",
              "  <svg xmlns=\"http://www.w3.org/2000/svg\" height=\"24px\"viewBox=\"0 0 24 24\"\n",
              "       width=\"24px\">\n",
              "    <path d=\"M0 0h24v24H0V0z\" fill=\"none\"/>\n",
              "    <path d=\"M18.56 5.44l.94 2.06.94-2.06 2.06-.94-2.06-.94-.94-2.06-.94 2.06-2.06.94zm-11 1L8.5 8.5l.94-2.06 2.06-.94-2.06-.94L8.5 2.5l-.94 2.06-2.06.94zm10 10l.94 2.06.94-2.06 2.06-.94-2.06-.94-.94-2.06-.94 2.06-2.06.94z\"/><path d=\"M17.41 7.96l-1.37-1.37c-.4-.4-.92-.59-1.43-.59-.52 0-1.04.2-1.43.59L10.3 9.45l-7.72 7.72c-.78.78-.78 2.05 0 2.83L4 21.41c.39.39.9.59 1.41.59.51 0 1.02-.2 1.41-.59l7.78-7.78 2.81-2.81c.8-.78.8-2.07 0-2.86zM5.41 20L4 18.59l7.72-7.72 1.47 1.35L5.41 20z\"/>\n",
              "  </svg>\n",
              "      </button>\n",
              "      \n",
              "  <style>\n",
              "    .colab-df-container {\n",
              "      display:flex;\n",
              "      flex-wrap:wrap;\n",
              "      gap: 12px;\n",
              "    }\n",
              "\n",
              "    .colab-df-convert {\n",
              "      background-color: #E8F0FE;\n",
              "      border: none;\n",
              "      border-radius: 50%;\n",
              "      cursor: pointer;\n",
              "      display: none;\n",
              "      fill: #1967D2;\n",
              "      height: 32px;\n",
              "      padding: 0 0 0 0;\n",
              "      width: 32px;\n",
              "    }\n",
              "\n",
              "    .colab-df-convert:hover {\n",
              "      background-color: #E2EBFA;\n",
              "      box-shadow: 0px 1px 2px rgba(60, 64, 67, 0.3), 0px 1px 3px 1px rgba(60, 64, 67, 0.15);\n",
              "      fill: #174EA6;\n",
              "    }\n",
              "\n",
              "    [theme=dark] .colab-df-convert {\n",
              "      background-color: #3B4455;\n",
              "      fill: #D2E3FC;\n",
              "    }\n",
              "\n",
              "    [theme=dark] .colab-df-convert:hover {\n",
              "      background-color: #434B5C;\n",
              "      box-shadow: 0px 1px 3px 1px rgba(0, 0, 0, 0.15);\n",
              "      filter: drop-shadow(0px 1px 2px rgba(0, 0, 0, 0.3));\n",
              "      fill: #FFFFFF;\n",
              "    }\n",
              "  </style>\n",
              "\n",
              "      <script>\n",
              "        const buttonEl =\n",
              "          document.querySelector('#df-87c4737b-dbb4-4ba2-b595-eb0ca978308b button.colab-df-convert');\n",
              "        buttonEl.style.display =\n",
              "          google.colab.kernel.accessAllowed ? 'block' : 'none';\n",
              "\n",
              "        async function convertToInteractive(key) {\n",
              "          const element = document.querySelector('#df-87c4737b-dbb4-4ba2-b595-eb0ca978308b');\n",
              "          const dataTable =\n",
              "            await google.colab.kernel.invokeFunction('convertToInteractive',\n",
              "                                                     [key], {});\n",
              "          if (!dataTable) return;\n",
              "\n",
              "          const docLinkHtml = 'Like what you see? Visit the ' +\n",
              "            '<a target=\"_blank\" href=https://colab.research.google.com/notebooks/data_table.ipynb>data table notebook</a>'\n",
              "            + ' to learn more about interactive tables.';\n",
              "          element.innerHTML = '';\n",
              "          dataTable['output_type'] = 'display_data';\n",
              "          await google.colab.output.renderOutput(dataTable, element);\n",
              "          const docLink = document.createElement('div');\n",
              "          docLink.innerHTML = docLinkHtml;\n",
              "          element.appendChild(docLink);\n",
              "        }\n",
              "      </script>\n",
              "    </div>\n",
              "  </div>\n",
              "  "
            ]
          },
          "metadata": {},
          "execution_count": 28
        }
      ]
    },
    {
      "cell_type": "code",
      "execution_count": 29,
      "metadata": {
        "id": "JeB-MCZEr9sx",
        "colab": {
          "base_uri": "https://localhost:8080/",
          "height": 206
        },
        "outputId": "e10adf2d-d4db-4ece-8895-3c5f83deb9ca"
      },
      "outputs": [
        {
          "output_type": "execute_result",
          "data": {
            "text/plain": [
              "           0                1                2         3    4\n",
              "0     Action        Adventure  Science Fiction  Thriller  NaN\n",
              "1     Action        Adventure  Science Fiction  Thriller  NaN\n",
              "2  Adventure  Science Fiction         Thriller       NaN  NaN\n",
              "3     Action        Adventure  Science Fiction   Fantasy  NaN\n",
              "4     Action            Crime         Thriller       NaN  NaN"
            ],
            "text/html": [
              "\n",
              "  <div id=\"df-fd102098-9810-4416-aa69-589655c5b848\">\n",
              "    <div class=\"colab-df-container\">\n",
              "      <div>\n",
              "<style scoped>\n",
              "    .dataframe tbody tr th:only-of-type {\n",
              "        vertical-align: middle;\n",
              "    }\n",
              "\n",
              "    .dataframe tbody tr th {\n",
              "        vertical-align: top;\n",
              "    }\n",
              "\n",
              "    .dataframe thead th {\n",
              "        text-align: right;\n",
              "    }\n",
              "</style>\n",
              "<table border=\"1\" class=\"dataframe\">\n",
              "  <thead>\n",
              "    <tr style=\"text-align: right;\">\n",
              "      <th></th>\n",
              "      <th>0</th>\n",
              "      <th>1</th>\n",
              "      <th>2</th>\n",
              "      <th>3</th>\n",
              "      <th>4</th>\n",
              "    </tr>\n",
              "  </thead>\n",
              "  <tbody>\n",
              "    <tr>\n",
              "      <th>0</th>\n",
              "      <td>Action</td>\n",
              "      <td>Adventure</td>\n",
              "      <td>Science Fiction</td>\n",
              "      <td>Thriller</td>\n",
              "      <td>NaN</td>\n",
              "    </tr>\n",
              "    <tr>\n",
              "      <th>1</th>\n",
              "      <td>Action</td>\n",
              "      <td>Adventure</td>\n",
              "      <td>Science Fiction</td>\n",
              "      <td>Thriller</td>\n",
              "      <td>NaN</td>\n",
              "    </tr>\n",
              "    <tr>\n",
              "      <th>2</th>\n",
              "      <td>Adventure</td>\n",
              "      <td>Science Fiction</td>\n",
              "      <td>Thriller</td>\n",
              "      <td>NaN</td>\n",
              "      <td>NaN</td>\n",
              "    </tr>\n",
              "    <tr>\n",
              "      <th>3</th>\n",
              "      <td>Action</td>\n",
              "      <td>Adventure</td>\n",
              "      <td>Science Fiction</td>\n",
              "      <td>Fantasy</td>\n",
              "      <td>NaN</td>\n",
              "    </tr>\n",
              "    <tr>\n",
              "      <th>4</th>\n",
              "      <td>Action</td>\n",
              "      <td>Crime</td>\n",
              "      <td>Thriller</td>\n",
              "      <td>NaN</td>\n",
              "      <td>NaN</td>\n",
              "    </tr>\n",
              "  </tbody>\n",
              "</table>\n",
              "</div>\n",
              "      <button class=\"colab-df-convert\" onclick=\"convertToInteractive('df-fd102098-9810-4416-aa69-589655c5b848')\"\n",
              "              title=\"Convert this dataframe to an interactive table.\"\n",
              "              style=\"display:none;\">\n",
              "        \n",
              "  <svg xmlns=\"http://www.w3.org/2000/svg\" height=\"24px\"viewBox=\"0 0 24 24\"\n",
              "       width=\"24px\">\n",
              "    <path d=\"M0 0h24v24H0V0z\" fill=\"none\"/>\n",
              "    <path d=\"M18.56 5.44l.94 2.06.94-2.06 2.06-.94-2.06-.94-.94-2.06-.94 2.06-2.06.94zm-11 1L8.5 8.5l.94-2.06 2.06-.94-2.06-.94L8.5 2.5l-.94 2.06-2.06.94zm10 10l.94 2.06.94-2.06 2.06-.94-2.06-.94-.94-2.06-.94 2.06-2.06.94z\"/><path d=\"M17.41 7.96l-1.37-1.37c-.4-.4-.92-.59-1.43-.59-.52 0-1.04.2-1.43.59L10.3 9.45l-7.72 7.72c-.78.78-.78 2.05 0 2.83L4 21.41c.39.39.9.59 1.41.59.51 0 1.02-.2 1.41-.59l7.78-7.78 2.81-2.81c.8-.78.8-2.07 0-2.86zM5.41 20L4 18.59l7.72-7.72 1.47 1.35L5.41 20z\"/>\n",
              "  </svg>\n",
              "      </button>\n",
              "      \n",
              "  <style>\n",
              "    .colab-df-container {\n",
              "      display:flex;\n",
              "      flex-wrap:wrap;\n",
              "      gap: 12px;\n",
              "    }\n",
              "\n",
              "    .colab-df-convert {\n",
              "      background-color: #E8F0FE;\n",
              "      border: none;\n",
              "      border-radius: 50%;\n",
              "      cursor: pointer;\n",
              "      display: none;\n",
              "      fill: #1967D2;\n",
              "      height: 32px;\n",
              "      padding: 0 0 0 0;\n",
              "      width: 32px;\n",
              "    }\n",
              "\n",
              "    .colab-df-convert:hover {\n",
              "      background-color: #E2EBFA;\n",
              "      box-shadow: 0px 1px 2px rgba(60, 64, 67, 0.3), 0px 1px 3px 1px rgba(60, 64, 67, 0.15);\n",
              "      fill: #174EA6;\n",
              "    }\n",
              "\n",
              "    [theme=dark] .colab-df-convert {\n",
              "      background-color: #3B4455;\n",
              "      fill: #D2E3FC;\n",
              "    }\n",
              "\n",
              "    [theme=dark] .colab-df-convert:hover {\n",
              "      background-color: #434B5C;\n",
              "      box-shadow: 0px 1px 3px 1px rgba(0, 0, 0, 0.15);\n",
              "      filter: drop-shadow(0px 1px 2px rgba(0, 0, 0, 0.3));\n",
              "      fill: #FFFFFF;\n",
              "    }\n",
              "  </style>\n",
              "\n",
              "      <script>\n",
              "        const buttonEl =\n",
              "          document.querySelector('#df-fd102098-9810-4416-aa69-589655c5b848 button.colab-df-convert');\n",
              "        buttonEl.style.display =\n",
              "          google.colab.kernel.accessAllowed ? 'block' : 'none';\n",
              "\n",
              "        async function convertToInteractive(key) {\n",
              "          const element = document.querySelector('#df-fd102098-9810-4416-aa69-589655c5b848');\n",
              "          const dataTable =\n",
              "            await google.colab.kernel.invokeFunction('convertToInteractive',\n",
              "                                                     [key], {});\n",
              "          if (!dataTable) return;\n",
              "\n",
              "          const docLinkHtml = 'Like what you see? Visit the ' +\n",
              "            '<a target=\"_blank\" href=https://colab.research.google.com/notebooks/data_table.ipynb>data table notebook</a>'\n",
              "            + ' to learn more about interactive tables.';\n",
              "          element.innerHTML = '';\n",
              "          dataTable['output_type'] = 'display_data';\n",
              "          await google.colab.output.renderOutput(dataTable, element);\n",
              "          const docLink = document.createElement('div');\n",
              "          docLink.innerHTML = docLinkHtml;\n",
              "          element.appendChild(docLink);\n",
              "        }\n",
              "      </script>\n",
              "    </div>\n",
              "  </div>\n",
              "  "
            ]
          },
          "metadata": {},
          "execution_count": 29
        }
      ],
      "source": [
        "# create new table with genres listed out by row\n",
        "df_geners = df.genres.apply(pd.Series)\n",
        "df_geners.head()"
      ]
    },
    {
      "cell_type": "code",
      "source": [
        "# merge both tables\n",
        "df_final=df.merge(df_geners, left_index=True, right_index = True)\n",
        "df_final.head()"
      ],
      "metadata": {
        "colab": {
          "base_uri": "https://localhost:8080/",
          "height": 565
        },
        "id": "zlD88NHVV7FB",
        "outputId": "08029f2e-a383-4547-e56d-aa4f5446b70d"
      },
      "execution_count": 30,
      "outputs": [
        {
          "output_type": "execute_result",
          "data": {
            "text/plain": [
              "       id  popularity       budget       revenue  \\\n",
              "0  135397   32.985763  150000000.0  1.513529e+09   \n",
              "1   76341   28.419936  150000000.0  3.784364e+08   \n",
              "2  262500   13.112507  110000000.0  2.952382e+08   \n",
              "3  140607   11.173104  200000000.0  2.068178e+09   \n",
              "4  168259    9.335014  190000000.0  1.506249e+09   \n",
              "\n",
              "                 original_title          director  runtime  \\\n",
              "0                Jurassic World   Colin Trevorrow      124   \n",
              "1            Mad Max: Fury Road     George Miller      120   \n",
              "2                     Insurgent  Robert Schwentke      119   \n",
              "3  Star Wars: The Force Awakens       J.J. Abrams      136   \n",
              "4                     Furious 7         James Wan      137   \n",
              "\n",
              "                                           genres  vote_count  vote_average  \\\n",
              "0  [Action, Adventure, Science Fiction, Thriller]        5562           6.5   \n",
              "1  [Action, Adventure, Science Fiction, Thriller]        6185           7.1   \n",
              "2          [Adventure, Science Fiction, Thriller]        2480           6.3   \n",
              "3   [Action, Adventure, Science Fiction, Fantasy]        5292           7.5   \n",
              "4                       [Action, Crime, Thriller]        2947           7.3   \n",
              "\n",
              "   release_year          0                1                2         3    4  \n",
              "0          2015     Action        Adventure  Science Fiction  Thriller  NaN  \n",
              "1          2015     Action        Adventure  Science Fiction  Thriller  NaN  \n",
              "2          2015  Adventure  Science Fiction         Thriller       NaN  NaN  \n",
              "3          2015     Action        Adventure  Science Fiction   Fantasy  NaN  \n",
              "4          2015     Action            Crime         Thriller       NaN  NaN  "
            ],
            "text/html": [
              "\n",
              "  <div id=\"df-ae8e05f0-e355-4a5b-92be-0820abcc0cae\">\n",
              "    <div class=\"colab-df-container\">\n",
              "      <div>\n",
              "<style scoped>\n",
              "    .dataframe tbody tr th:only-of-type {\n",
              "        vertical-align: middle;\n",
              "    }\n",
              "\n",
              "    .dataframe tbody tr th {\n",
              "        vertical-align: top;\n",
              "    }\n",
              "\n",
              "    .dataframe thead th {\n",
              "        text-align: right;\n",
              "    }\n",
              "</style>\n",
              "<table border=\"1\" class=\"dataframe\">\n",
              "  <thead>\n",
              "    <tr style=\"text-align: right;\">\n",
              "      <th></th>\n",
              "      <th>id</th>\n",
              "      <th>popularity</th>\n",
              "      <th>budget</th>\n",
              "      <th>revenue</th>\n",
              "      <th>original_title</th>\n",
              "      <th>director</th>\n",
              "      <th>runtime</th>\n",
              "      <th>genres</th>\n",
              "      <th>vote_count</th>\n",
              "      <th>vote_average</th>\n",
              "      <th>release_year</th>\n",
              "      <th>0</th>\n",
              "      <th>1</th>\n",
              "      <th>2</th>\n",
              "      <th>3</th>\n",
              "      <th>4</th>\n",
              "    </tr>\n",
              "  </thead>\n",
              "  <tbody>\n",
              "    <tr>\n",
              "      <th>0</th>\n",
              "      <td>135397</td>\n",
              "      <td>32.985763</td>\n",
              "      <td>150000000.0</td>\n",
              "      <td>1.513529e+09</td>\n",
              "      <td>Jurassic World</td>\n",
              "      <td>Colin Trevorrow</td>\n",
              "      <td>124</td>\n",
              "      <td>[Action, Adventure, Science Fiction, Thriller]</td>\n",
              "      <td>5562</td>\n",
              "      <td>6.5</td>\n",
              "      <td>2015</td>\n",
              "      <td>Action</td>\n",
              "      <td>Adventure</td>\n",
              "      <td>Science Fiction</td>\n",
              "      <td>Thriller</td>\n",
              "      <td>NaN</td>\n",
              "    </tr>\n",
              "    <tr>\n",
              "      <th>1</th>\n",
              "      <td>76341</td>\n",
              "      <td>28.419936</td>\n",
              "      <td>150000000.0</td>\n",
              "      <td>3.784364e+08</td>\n",
              "      <td>Mad Max: Fury Road</td>\n",
              "      <td>George Miller</td>\n",
              "      <td>120</td>\n",
              "      <td>[Action, Adventure, Science Fiction, Thriller]</td>\n",
              "      <td>6185</td>\n",
              "      <td>7.1</td>\n",
              "      <td>2015</td>\n",
              "      <td>Action</td>\n",
              "      <td>Adventure</td>\n",
              "      <td>Science Fiction</td>\n",
              "      <td>Thriller</td>\n",
              "      <td>NaN</td>\n",
              "    </tr>\n",
              "    <tr>\n",
              "      <th>2</th>\n",
              "      <td>262500</td>\n",
              "      <td>13.112507</td>\n",
              "      <td>110000000.0</td>\n",
              "      <td>2.952382e+08</td>\n",
              "      <td>Insurgent</td>\n",
              "      <td>Robert Schwentke</td>\n",
              "      <td>119</td>\n",
              "      <td>[Adventure, Science Fiction, Thriller]</td>\n",
              "      <td>2480</td>\n",
              "      <td>6.3</td>\n",
              "      <td>2015</td>\n",
              "      <td>Adventure</td>\n",
              "      <td>Science Fiction</td>\n",
              "      <td>Thriller</td>\n",
              "      <td>NaN</td>\n",
              "      <td>NaN</td>\n",
              "    </tr>\n",
              "    <tr>\n",
              "      <th>3</th>\n",
              "      <td>140607</td>\n",
              "      <td>11.173104</td>\n",
              "      <td>200000000.0</td>\n",
              "      <td>2.068178e+09</td>\n",
              "      <td>Star Wars: The Force Awakens</td>\n",
              "      <td>J.J. Abrams</td>\n",
              "      <td>136</td>\n",
              "      <td>[Action, Adventure, Science Fiction, Fantasy]</td>\n",
              "      <td>5292</td>\n",
              "      <td>7.5</td>\n",
              "      <td>2015</td>\n",
              "      <td>Action</td>\n",
              "      <td>Adventure</td>\n",
              "      <td>Science Fiction</td>\n",
              "      <td>Fantasy</td>\n",
              "      <td>NaN</td>\n",
              "    </tr>\n",
              "    <tr>\n",
              "      <th>4</th>\n",
              "      <td>168259</td>\n",
              "      <td>9.335014</td>\n",
              "      <td>190000000.0</td>\n",
              "      <td>1.506249e+09</td>\n",
              "      <td>Furious 7</td>\n",
              "      <td>James Wan</td>\n",
              "      <td>137</td>\n",
              "      <td>[Action, Crime, Thriller]</td>\n",
              "      <td>2947</td>\n",
              "      <td>7.3</td>\n",
              "      <td>2015</td>\n",
              "      <td>Action</td>\n",
              "      <td>Crime</td>\n",
              "      <td>Thriller</td>\n",
              "      <td>NaN</td>\n",
              "      <td>NaN</td>\n",
              "    </tr>\n",
              "  </tbody>\n",
              "</table>\n",
              "</div>\n",
              "      <button class=\"colab-df-convert\" onclick=\"convertToInteractive('df-ae8e05f0-e355-4a5b-92be-0820abcc0cae')\"\n",
              "              title=\"Convert this dataframe to an interactive table.\"\n",
              "              style=\"display:none;\">\n",
              "        \n",
              "  <svg xmlns=\"http://www.w3.org/2000/svg\" height=\"24px\"viewBox=\"0 0 24 24\"\n",
              "       width=\"24px\">\n",
              "    <path d=\"M0 0h24v24H0V0z\" fill=\"none\"/>\n",
              "    <path d=\"M18.56 5.44l.94 2.06.94-2.06 2.06-.94-2.06-.94-.94-2.06-.94 2.06-2.06.94zm-11 1L8.5 8.5l.94-2.06 2.06-.94-2.06-.94L8.5 2.5l-.94 2.06-2.06.94zm10 10l.94 2.06.94-2.06 2.06-.94-2.06-.94-.94-2.06-.94 2.06-2.06.94z\"/><path d=\"M17.41 7.96l-1.37-1.37c-.4-.4-.92-.59-1.43-.59-.52 0-1.04.2-1.43.59L10.3 9.45l-7.72 7.72c-.78.78-.78 2.05 0 2.83L4 21.41c.39.39.9.59 1.41.59.51 0 1.02-.2 1.41-.59l7.78-7.78 2.81-2.81c.8-.78.8-2.07 0-2.86zM5.41 20L4 18.59l7.72-7.72 1.47 1.35L5.41 20z\"/>\n",
              "  </svg>\n",
              "      </button>\n",
              "      \n",
              "  <style>\n",
              "    .colab-df-container {\n",
              "      display:flex;\n",
              "      flex-wrap:wrap;\n",
              "      gap: 12px;\n",
              "    }\n",
              "\n",
              "    .colab-df-convert {\n",
              "      background-color: #E8F0FE;\n",
              "      border: none;\n",
              "      border-radius: 50%;\n",
              "      cursor: pointer;\n",
              "      display: none;\n",
              "      fill: #1967D2;\n",
              "      height: 32px;\n",
              "      padding: 0 0 0 0;\n",
              "      width: 32px;\n",
              "    }\n",
              "\n",
              "    .colab-df-convert:hover {\n",
              "      background-color: #E2EBFA;\n",
              "      box-shadow: 0px 1px 2px rgba(60, 64, 67, 0.3), 0px 1px 3px 1px rgba(60, 64, 67, 0.15);\n",
              "      fill: #174EA6;\n",
              "    }\n",
              "\n",
              "    [theme=dark] .colab-df-convert {\n",
              "      background-color: #3B4455;\n",
              "      fill: #D2E3FC;\n",
              "    }\n",
              "\n",
              "    [theme=dark] .colab-df-convert:hover {\n",
              "      background-color: #434B5C;\n",
              "      box-shadow: 0px 1px 3px 1px rgba(0, 0, 0, 0.15);\n",
              "      filter: drop-shadow(0px 1px 2px rgba(0, 0, 0, 0.3));\n",
              "      fill: #FFFFFF;\n",
              "    }\n",
              "  </style>\n",
              "\n",
              "      <script>\n",
              "        const buttonEl =\n",
              "          document.querySelector('#df-ae8e05f0-e355-4a5b-92be-0820abcc0cae button.colab-df-convert');\n",
              "        buttonEl.style.display =\n",
              "          google.colab.kernel.accessAllowed ? 'block' : 'none';\n",
              "\n",
              "        async function convertToInteractive(key) {\n",
              "          const element = document.querySelector('#df-ae8e05f0-e355-4a5b-92be-0820abcc0cae');\n",
              "          const dataTable =\n",
              "            await google.colab.kernel.invokeFunction('convertToInteractive',\n",
              "                                                     [key], {});\n",
              "          if (!dataTable) return;\n",
              "\n",
              "          const docLinkHtml = 'Like what you see? Visit the ' +\n",
              "            '<a target=\"_blank\" href=https://colab.research.google.com/notebooks/data_table.ipynb>data table notebook</a>'\n",
              "            + ' to learn more about interactive tables.';\n",
              "          element.innerHTML = '';\n",
              "          dataTable['output_type'] = 'display_data';\n",
              "          await google.colab.output.renderOutput(dataTable, element);\n",
              "          const docLink = document.createElement('div');\n",
              "          docLink.innerHTML = docLinkHtml;\n",
              "          element.appendChild(docLink);\n",
              "        }\n",
              "      </script>\n",
              "    </div>\n",
              "  </div>\n",
              "  "
            ]
          },
          "metadata": {},
          "execution_count": 30
        }
      ]
    },
    {
      "cell_type": "code",
      "source": [
        "df_final.columns"
      ],
      "metadata": {
        "colab": {
          "base_uri": "https://localhost:8080/"
        },
        "id": "T-uXgKjwWR9n",
        "outputId": "734325bb-3f8b-4559-eccf-b1872678659d"
      },
      "execution_count": 31,
      "outputs": [
        {
          "output_type": "execute_result",
          "data": {
            "text/plain": [
              "Index([            'id',     'popularity',         'budget',        'revenue',\n",
              "       'original_title',       'director',        'runtime',         'genres',\n",
              "           'vote_count',   'vote_average',   'release_year',                0,\n",
              "                      1,                2,                3,                4],\n",
              "      dtype='object')"
            ]
          },
          "metadata": {},
          "execution_count": 31
        }
      ]
    },
    {
      "cell_type": "code",
      "source": [
        "# pivot genres from columns into rows\n",
        "df_final = df_final.melt(id_vars=['id',     'popularity',         'budget',        'revenue',\n",
        "                      'original_title',       'director',        'runtime',         'genres',\n",
        "                          'vote_count',   'vote_average',   'release_year'], value_name='genre')\n",
        "df_final.head()"
      ],
      "metadata": {
        "colab": {
          "base_uri": "https://localhost:8080/",
          "height": 565
        },
        "id": "yRBBiArpWMO_",
        "outputId": "54cec077-3bed-4088-b698-085e33ca4c98"
      },
      "execution_count": 32,
      "outputs": [
        {
          "output_type": "execute_result",
          "data": {
            "text/plain": [
              "       id  popularity       budget       revenue  \\\n",
              "0  135397   32.985763  150000000.0  1.513529e+09   \n",
              "1   76341   28.419936  150000000.0  3.784364e+08   \n",
              "2  262500   13.112507  110000000.0  2.952382e+08   \n",
              "3  140607   11.173104  200000000.0  2.068178e+09   \n",
              "4  168259    9.335014  190000000.0  1.506249e+09   \n",
              "\n",
              "                 original_title          director  runtime  \\\n",
              "0                Jurassic World   Colin Trevorrow      124   \n",
              "1            Mad Max: Fury Road     George Miller      120   \n",
              "2                     Insurgent  Robert Schwentke      119   \n",
              "3  Star Wars: The Force Awakens       J.J. Abrams      136   \n",
              "4                     Furious 7         James Wan      137   \n",
              "\n",
              "                                           genres  vote_count  vote_average  \\\n",
              "0  [Action, Adventure, Science Fiction, Thriller]        5562           6.5   \n",
              "1  [Action, Adventure, Science Fiction, Thriller]        6185           7.1   \n",
              "2          [Adventure, Science Fiction, Thriller]        2480           6.3   \n",
              "3   [Action, Adventure, Science Fiction, Fantasy]        5292           7.5   \n",
              "4                       [Action, Crime, Thriller]        2947           7.3   \n",
              "\n",
              "   release_year variable      genre  \n",
              "0          2015        0     Action  \n",
              "1          2015        0     Action  \n",
              "2          2015        0  Adventure  \n",
              "3          2015        0     Action  \n",
              "4          2015        0     Action  "
            ],
            "text/html": [
              "\n",
              "  <div id=\"df-0ef7f272-dc0d-4223-8167-16b7e42b4be1\">\n",
              "    <div class=\"colab-df-container\">\n",
              "      <div>\n",
              "<style scoped>\n",
              "    .dataframe tbody tr th:only-of-type {\n",
              "        vertical-align: middle;\n",
              "    }\n",
              "\n",
              "    .dataframe tbody tr th {\n",
              "        vertical-align: top;\n",
              "    }\n",
              "\n",
              "    .dataframe thead th {\n",
              "        text-align: right;\n",
              "    }\n",
              "</style>\n",
              "<table border=\"1\" class=\"dataframe\">\n",
              "  <thead>\n",
              "    <tr style=\"text-align: right;\">\n",
              "      <th></th>\n",
              "      <th>id</th>\n",
              "      <th>popularity</th>\n",
              "      <th>budget</th>\n",
              "      <th>revenue</th>\n",
              "      <th>original_title</th>\n",
              "      <th>director</th>\n",
              "      <th>runtime</th>\n",
              "      <th>genres</th>\n",
              "      <th>vote_count</th>\n",
              "      <th>vote_average</th>\n",
              "      <th>release_year</th>\n",
              "      <th>variable</th>\n",
              "      <th>genre</th>\n",
              "    </tr>\n",
              "  </thead>\n",
              "  <tbody>\n",
              "    <tr>\n",
              "      <th>0</th>\n",
              "      <td>135397</td>\n",
              "      <td>32.985763</td>\n",
              "      <td>150000000.0</td>\n",
              "      <td>1.513529e+09</td>\n",
              "      <td>Jurassic World</td>\n",
              "      <td>Colin Trevorrow</td>\n",
              "      <td>124</td>\n",
              "      <td>[Action, Adventure, Science Fiction, Thriller]</td>\n",
              "      <td>5562</td>\n",
              "      <td>6.5</td>\n",
              "      <td>2015</td>\n",
              "      <td>0</td>\n",
              "      <td>Action</td>\n",
              "    </tr>\n",
              "    <tr>\n",
              "      <th>1</th>\n",
              "      <td>76341</td>\n",
              "      <td>28.419936</td>\n",
              "      <td>150000000.0</td>\n",
              "      <td>3.784364e+08</td>\n",
              "      <td>Mad Max: Fury Road</td>\n",
              "      <td>George Miller</td>\n",
              "      <td>120</td>\n",
              "      <td>[Action, Adventure, Science Fiction, Thriller]</td>\n",
              "      <td>6185</td>\n",
              "      <td>7.1</td>\n",
              "      <td>2015</td>\n",
              "      <td>0</td>\n",
              "      <td>Action</td>\n",
              "    </tr>\n",
              "    <tr>\n",
              "      <th>2</th>\n",
              "      <td>262500</td>\n",
              "      <td>13.112507</td>\n",
              "      <td>110000000.0</td>\n",
              "      <td>2.952382e+08</td>\n",
              "      <td>Insurgent</td>\n",
              "      <td>Robert Schwentke</td>\n",
              "      <td>119</td>\n",
              "      <td>[Adventure, Science Fiction, Thriller]</td>\n",
              "      <td>2480</td>\n",
              "      <td>6.3</td>\n",
              "      <td>2015</td>\n",
              "      <td>0</td>\n",
              "      <td>Adventure</td>\n",
              "    </tr>\n",
              "    <tr>\n",
              "      <th>3</th>\n",
              "      <td>140607</td>\n",
              "      <td>11.173104</td>\n",
              "      <td>200000000.0</td>\n",
              "      <td>2.068178e+09</td>\n",
              "      <td>Star Wars: The Force Awakens</td>\n",
              "      <td>J.J. Abrams</td>\n",
              "      <td>136</td>\n",
              "      <td>[Action, Adventure, Science Fiction, Fantasy]</td>\n",
              "      <td>5292</td>\n",
              "      <td>7.5</td>\n",
              "      <td>2015</td>\n",
              "      <td>0</td>\n",
              "      <td>Action</td>\n",
              "    </tr>\n",
              "    <tr>\n",
              "      <th>4</th>\n",
              "      <td>168259</td>\n",
              "      <td>9.335014</td>\n",
              "      <td>190000000.0</td>\n",
              "      <td>1.506249e+09</td>\n",
              "      <td>Furious 7</td>\n",
              "      <td>James Wan</td>\n",
              "      <td>137</td>\n",
              "      <td>[Action, Crime, Thriller]</td>\n",
              "      <td>2947</td>\n",
              "      <td>7.3</td>\n",
              "      <td>2015</td>\n",
              "      <td>0</td>\n",
              "      <td>Action</td>\n",
              "    </tr>\n",
              "  </tbody>\n",
              "</table>\n",
              "</div>\n",
              "      <button class=\"colab-df-convert\" onclick=\"convertToInteractive('df-0ef7f272-dc0d-4223-8167-16b7e42b4be1')\"\n",
              "              title=\"Convert this dataframe to an interactive table.\"\n",
              "              style=\"display:none;\">\n",
              "        \n",
              "  <svg xmlns=\"http://www.w3.org/2000/svg\" height=\"24px\"viewBox=\"0 0 24 24\"\n",
              "       width=\"24px\">\n",
              "    <path d=\"M0 0h24v24H0V0z\" fill=\"none\"/>\n",
              "    <path d=\"M18.56 5.44l.94 2.06.94-2.06 2.06-.94-2.06-.94-.94-2.06-.94 2.06-2.06.94zm-11 1L8.5 8.5l.94-2.06 2.06-.94-2.06-.94L8.5 2.5l-.94 2.06-2.06.94zm10 10l.94 2.06.94-2.06 2.06-.94-2.06-.94-.94-2.06-.94 2.06-2.06.94z\"/><path d=\"M17.41 7.96l-1.37-1.37c-.4-.4-.92-.59-1.43-.59-.52 0-1.04.2-1.43.59L10.3 9.45l-7.72 7.72c-.78.78-.78 2.05 0 2.83L4 21.41c.39.39.9.59 1.41.59.51 0 1.02-.2 1.41-.59l7.78-7.78 2.81-2.81c.8-.78.8-2.07 0-2.86zM5.41 20L4 18.59l7.72-7.72 1.47 1.35L5.41 20z\"/>\n",
              "  </svg>\n",
              "      </button>\n",
              "      \n",
              "  <style>\n",
              "    .colab-df-container {\n",
              "      display:flex;\n",
              "      flex-wrap:wrap;\n",
              "      gap: 12px;\n",
              "    }\n",
              "\n",
              "    .colab-df-convert {\n",
              "      background-color: #E8F0FE;\n",
              "      border: none;\n",
              "      border-radius: 50%;\n",
              "      cursor: pointer;\n",
              "      display: none;\n",
              "      fill: #1967D2;\n",
              "      height: 32px;\n",
              "      padding: 0 0 0 0;\n",
              "      width: 32px;\n",
              "    }\n",
              "\n",
              "    .colab-df-convert:hover {\n",
              "      background-color: #E2EBFA;\n",
              "      box-shadow: 0px 1px 2px rgba(60, 64, 67, 0.3), 0px 1px 3px 1px rgba(60, 64, 67, 0.15);\n",
              "      fill: #174EA6;\n",
              "    }\n",
              "\n",
              "    [theme=dark] .colab-df-convert {\n",
              "      background-color: #3B4455;\n",
              "      fill: #D2E3FC;\n",
              "    }\n",
              "\n",
              "    [theme=dark] .colab-df-convert:hover {\n",
              "      background-color: #434B5C;\n",
              "      box-shadow: 0px 1px 3px 1px rgba(0, 0, 0, 0.15);\n",
              "      filter: drop-shadow(0px 1px 2px rgba(0, 0, 0, 0.3));\n",
              "      fill: #FFFFFF;\n",
              "    }\n",
              "  </style>\n",
              "\n",
              "      <script>\n",
              "        const buttonEl =\n",
              "          document.querySelector('#df-0ef7f272-dc0d-4223-8167-16b7e42b4be1 button.colab-df-convert');\n",
              "        buttonEl.style.display =\n",
              "          google.colab.kernel.accessAllowed ? 'block' : 'none';\n",
              "\n",
              "        async function convertToInteractive(key) {\n",
              "          const element = document.querySelector('#df-0ef7f272-dc0d-4223-8167-16b7e42b4be1');\n",
              "          const dataTable =\n",
              "            await google.colab.kernel.invokeFunction('convertToInteractive',\n",
              "                                                     [key], {});\n",
              "          if (!dataTable) return;\n",
              "\n",
              "          const docLinkHtml = 'Like what you see? Visit the ' +\n",
              "            '<a target=\"_blank\" href=https://colab.research.google.com/notebooks/data_table.ipynb>data table notebook</a>'\n",
              "            + ' to learn more about interactive tables.';\n",
              "          element.innerHTML = '';\n",
              "          dataTable['output_type'] = 'display_data';\n",
              "          await google.colab.output.renderOutput(dataTable, element);\n",
              "          const docLink = document.createElement('div');\n",
              "          docLink.innerHTML = docLinkHtml;\n",
              "          element.appendChild(docLink);\n",
              "        }\n",
              "      </script>\n",
              "    </div>\n",
              "  </div>\n",
              "  "
            ]
          },
          "metadata": {},
          "execution_count": 32
        }
      ]
    },
    {
      "cell_type": "code",
      "source": [
        "#remove unnecessary columns\n",
        "df_final.drop(['genres','variable'],axis=1,inplace=True)\n",
        "df_final.head()"
      ],
      "metadata": {
        "colab": {
          "base_uri": "https://localhost:8080/",
          "height": 357
        },
        "id": "fU_tD6k98bML",
        "outputId": "80d3f04b-9c7c-46fd-9d30-1cb5add95412"
      },
      "execution_count": 33,
      "outputs": [
        {
          "output_type": "execute_result",
          "data": {
            "text/plain": [
              "       id  popularity       budget       revenue  \\\n",
              "0  135397   32.985763  150000000.0  1.513529e+09   \n",
              "1   76341   28.419936  150000000.0  3.784364e+08   \n",
              "2  262500   13.112507  110000000.0  2.952382e+08   \n",
              "3  140607   11.173104  200000000.0  2.068178e+09   \n",
              "4  168259    9.335014  190000000.0  1.506249e+09   \n",
              "\n",
              "                 original_title          director  runtime  vote_count  \\\n",
              "0                Jurassic World   Colin Trevorrow      124        5562   \n",
              "1            Mad Max: Fury Road     George Miller      120        6185   \n",
              "2                     Insurgent  Robert Schwentke      119        2480   \n",
              "3  Star Wars: The Force Awakens       J.J. Abrams      136        5292   \n",
              "4                     Furious 7         James Wan      137        2947   \n",
              "\n",
              "   vote_average  release_year      genre  \n",
              "0           6.5          2015     Action  \n",
              "1           7.1          2015     Action  \n",
              "2           6.3          2015  Adventure  \n",
              "3           7.5          2015     Action  \n",
              "4           7.3          2015     Action  "
            ],
            "text/html": [
              "\n",
              "  <div id=\"df-5e6eaa8f-91bb-4e1f-a783-5836e357a7c4\">\n",
              "    <div class=\"colab-df-container\">\n",
              "      <div>\n",
              "<style scoped>\n",
              "    .dataframe tbody tr th:only-of-type {\n",
              "        vertical-align: middle;\n",
              "    }\n",
              "\n",
              "    .dataframe tbody tr th {\n",
              "        vertical-align: top;\n",
              "    }\n",
              "\n",
              "    .dataframe thead th {\n",
              "        text-align: right;\n",
              "    }\n",
              "</style>\n",
              "<table border=\"1\" class=\"dataframe\">\n",
              "  <thead>\n",
              "    <tr style=\"text-align: right;\">\n",
              "      <th></th>\n",
              "      <th>id</th>\n",
              "      <th>popularity</th>\n",
              "      <th>budget</th>\n",
              "      <th>revenue</th>\n",
              "      <th>original_title</th>\n",
              "      <th>director</th>\n",
              "      <th>runtime</th>\n",
              "      <th>vote_count</th>\n",
              "      <th>vote_average</th>\n",
              "      <th>release_year</th>\n",
              "      <th>genre</th>\n",
              "    </tr>\n",
              "  </thead>\n",
              "  <tbody>\n",
              "    <tr>\n",
              "      <th>0</th>\n",
              "      <td>135397</td>\n",
              "      <td>32.985763</td>\n",
              "      <td>150000000.0</td>\n",
              "      <td>1.513529e+09</td>\n",
              "      <td>Jurassic World</td>\n",
              "      <td>Colin Trevorrow</td>\n",
              "      <td>124</td>\n",
              "      <td>5562</td>\n",
              "      <td>6.5</td>\n",
              "      <td>2015</td>\n",
              "      <td>Action</td>\n",
              "    </tr>\n",
              "    <tr>\n",
              "      <th>1</th>\n",
              "      <td>76341</td>\n",
              "      <td>28.419936</td>\n",
              "      <td>150000000.0</td>\n",
              "      <td>3.784364e+08</td>\n",
              "      <td>Mad Max: Fury Road</td>\n",
              "      <td>George Miller</td>\n",
              "      <td>120</td>\n",
              "      <td>6185</td>\n",
              "      <td>7.1</td>\n",
              "      <td>2015</td>\n",
              "      <td>Action</td>\n",
              "    </tr>\n",
              "    <tr>\n",
              "      <th>2</th>\n",
              "      <td>262500</td>\n",
              "      <td>13.112507</td>\n",
              "      <td>110000000.0</td>\n",
              "      <td>2.952382e+08</td>\n",
              "      <td>Insurgent</td>\n",
              "      <td>Robert Schwentke</td>\n",
              "      <td>119</td>\n",
              "      <td>2480</td>\n",
              "      <td>6.3</td>\n",
              "      <td>2015</td>\n",
              "      <td>Adventure</td>\n",
              "    </tr>\n",
              "    <tr>\n",
              "      <th>3</th>\n",
              "      <td>140607</td>\n",
              "      <td>11.173104</td>\n",
              "      <td>200000000.0</td>\n",
              "      <td>2.068178e+09</td>\n",
              "      <td>Star Wars: The Force Awakens</td>\n",
              "      <td>J.J. Abrams</td>\n",
              "      <td>136</td>\n",
              "      <td>5292</td>\n",
              "      <td>7.5</td>\n",
              "      <td>2015</td>\n",
              "      <td>Action</td>\n",
              "    </tr>\n",
              "    <tr>\n",
              "      <th>4</th>\n",
              "      <td>168259</td>\n",
              "      <td>9.335014</td>\n",
              "      <td>190000000.0</td>\n",
              "      <td>1.506249e+09</td>\n",
              "      <td>Furious 7</td>\n",
              "      <td>James Wan</td>\n",
              "      <td>137</td>\n",
              "      <td>2947</td>\n",
              "      <td>7.3</td>\n",
              "      <td>2015</td>\n",
              "      <td>Action</td>\n",
              "    </tr>\n",
              "  </tbody>\n",
              "</table>\n",
              "</div>\n",
              "      <button class=\"colab-df-convert\" onclick=\"convertToInteractive('df-5e6eaa8f-91bb-4e1f-a783-5836e357a7c4')\"\n",
              "              title=\"Convert this dataframe to an interactive table.\"\n",
              "              style=\"display:none;\">\n",
              "        \n",
              "  <svg xmlns=\"http://www.w3.org/2000/svg\" height=\"24px\"viewBox=\"0 0 24 24\"\n",
              "       width=\"24px\">\n",
              "    <path d=\"M0 0h24v24H0V0z\" fill=\"none\"/>\n",
              "    <path d=\"M18.56 5.44l.94 2.06.94-2.06 2.06-.94-2.06-.94-.94-2.06-.94 2.06-2.06.94zm-11 1L8.5 8.5l.94-2.06 2.06-.94-2.06-.94L8.5 2.5l-.94 2.06-2.06.94zm10 10l.94 2.06.94-2.06 2.06-.94-2.06-.94-.94-2.06-.94 2.06-2.06.94z\"/><path d=\"M17.41 7.96l-1.37-1.37c-.4-.4-.92-.59-1.43-.59-.52 0-1.04.2-1.43.59L10.3 9.45l-7.72 7.72c-.78.78-.78 2.05 0 2.83L4 21.41c.39.39.9.59 1.41.59.51 0 1.02-.2 1.41-.59l7.78-7.78 2.81-2.81c.8-.78.8-2.07 0-2.86zM5.41 20L4 18.59l7.72-7.72 1.47 1.35L5.41 20z\"/>\n",
              "  </svg>\n",
              "      </button>\n",
              "      \n",
              "  <style>\n",
              "    .colab-df-container {\n",
              "      display:flex;\n",
              "      flex-wrap:wrap;\n",
              "      gap: 12px;\n",
              "    }\n",
              "\n",
              "    .colab-df-convert {\n",
              "      background-color: #E8F0FE;\n",
              "      border: none;\n",
              "      border-radius: 50%;\n",
              "      cursor: pointer;\n",
              "      display: none;\n",
              "      fill: #1967D2;\n",
              "      height: 32px;\n",
              "      padding: 0 0 0 0;\n",
              "      width: 32px;\n",
              "    }\n",
              "\n",
              "    .colab-df-convert:hover {\n",
              "      background-color: #E2EBFA;\n",
              "      box-shadow: 0px 1px 2px rgba(60, 64, 67, 0.3), 0px 1px 3px 1px rgba(60, 64, 67, 0.15);\n",
              "      fill: #174EA6;\n",
              "    }\n",
              "\n",
              "    [theme=dark] .colab-df-convert {\n",
              "      background-color: #3B4455;\n",
              "      fill: #D2E3FC;\n",
              "    }\n",
              "\n",
              "    [theme=dark] .colab-df-convert:hover {\n",
              "      background-color: #434B5C;\n",
              "      box-shadow: 0px 1px 3px 1px rgba(0, 0, 0, 0.15);\n",
              "      filter: drop-shadow(0px 1px 2px rgba(0, 0, 0, 0.3));\n",
              "      fill: #FFFFFF;\n",
              "    }\n",
              "  </style>\n",
              "\n",
              "      <script>\n",
              "        const buttonEl =\n",
              "          document.querySelector('#df-5e6eaa8f-91bb-4e1f-a783-5836e357a7c4 button.colab-df-convert');\n",
              "        buttonEl.style.display =\n",
              "          google.colab.kernel.accessAllowed ? 'block' : 'none';\n",
              "\n",
              "        async function convertToInteractive(key) {\n",
              "          const element = document.querySelector('#df-5e6eaa8f-91bb-4e1f-a783-5836e357a7c4');\n",
              "          const dataTable =\n",
              "            await google.colab.kernel.invokeFunction('convertToInteractive',\n",
              "                                                     [key], {});\n",
              "          if (!dataTable) return;\n",
              "\n",
              "          const docLinkHtml = 'Like what you see? Visit the ' +\n",
              "            '<a target=\"_blank\" href=https://colab.research.google.com/notebooks/data_table.ipynb>data table notebook</a>'\n",
              "            + ' to learn more about interactive tables.';\n",
              "          element.innerHTML = '';\n",
              "          dataTable['output_type'] = 'display_data';\n",
              "          await google.colab.output.renderOutput(dataTable, element);\n",
              "          const docLink = document.createElement('div');\n",
              "          docLink.innerHTML = docLinkHtml;\n",
              "          element.appendChild(docLink);\n",
              "        }\n",
              "      </script>\n",
              "    </div>\n",
              "  </div>\n",
              "  "
            ]
          },
          "metadata": {},
          "execution_count": 33
        }
      ]
    },
    {
      "cell_type": "code",
      "source": [
        "df_final.shape"
      ],
      "metadata": {
        "colab": {
          "base_uri": "https://localhost:8080/"
        },
        "id": "wKcMQkqA9KN1",
        "outputId": "2d6d2047-4025-46a3-ff05-4d4e5eb1fc3b"
      },
      "execution_count": 34,
      "outputs": [
        {
          "output_type": "execute_result",
          "data": {
            "text/plain": [
              "(54000, 11)"
            ]
          },
          "metadata": {},
          "execution_count": 34
        }
      ]
    },
    {
      "cell_type": "code",
      "source": [
        "#drop missing data and check\n",
        "df_final.dropna(inplace=True)\n",
        "df_final.isnull().sum()"
      ],
      "metadata": {
        "colab": {
          "base_uri": "https://localhost:8080/"
        },
        "id": "ReYWzK5P_0R5",
        "outputId": "6144b496-0ee3-486f-c3ec-004d3da75b29"
      },
      "execution_count": 35,
      "outputs": [
        {
          "output_type": "execute_result",
          "data": {
            "text/plain": [
              "id                0\n",
              "popularity        0\n",
              "budget            0\n",
              "revenue           0\n",
              "original_title    0\n",
              "director          0\n",
              "runtime           0\n",
              "vote_count        0\n",
              "vote_average      0\n",
              "release_year      0\n",
              "genre             0\n",
              "dtype: int64"
            ]
          },
          "metadata": {},
          "execution_count": 35
        }
      ]
    },
    {
      "cell_type": "markdown",
      "metadata": {
        "id": "g4usbsbcr9sy"
      },
      "source": [
        " ### Create a new data frame for the last ten years of data"
      ]
    },
    {
      "cell_type": "code",
      "source": [
        "df['release_year'].min()"
      ],
      "metadata": {
        "colab": {
          "base_uri": "https://localhost:8080/"
        },
        "id": "sqEBz7s0-wKT",
        "outputId": "32455c0e-966d-46a1-d141-029ed2bd85b3"
      },
      "execution_count": 37,
      "outputs": [
        {
          "output_type": "execute_result",
          "data": {
            "text/plain": [
              "1960"
            ]
          },
          "metadata": {},
          "execution_count": 37
        }
      ]
    },
    {
      "cell_type": "code",
      "source": [
        "df['release_year'].max()"
      ],
      "metadata": {
        "colab": {
          "base_uri": "https://localhost:8080/"
        },
        "id": "BX3OMsZO-zVK",
        "outputId": "0a805be0-2556-4280-85d0-0a8cdf873cbb"
      },
      "execution_count": 38,
      "outputs": [
        {
          "output_type": "execute_result",
          "data": {
            "text/plain": [
              "2015"
            ]
          },
          "metadata": {},
          "execution_count": 38
        }
      ]
    },
    {
      "cell_type": "code",
      "execution_count": 36,
      "metadata": {
        "id": "GTPPJsD8r9sy"
      },
      "outputs": [],
      "source": [
        "df_last_10_year=df_final.query('release_year>=2005')"
      ]
    },
    {
      "cell_type": "markdown",
      "metadata": {
        "id": "RjeTO7omr9sy"
      },
      "source": [
        "<a id='eda'></a>\n",
        "## Exploratory Data Analysis\n",
        "\n",
        "\n",
        "###  Question 1 : what movie genre has the most popularity in the last ten year?"
      ]
    },
    {
      "cell_type": "code",
      "execution_count": 40,
      "metadata": {
        "colab": {
          "base_uri": "https://localhost:8080/",
          "height": 485
        },
        "id": "xJXgz3Z1r9sy",
        "outputId": "2f7d67b7-bc4e-47d0-fabf-e5aba6b3231a"
      },
      "outputs": [
        {
          "output_type": "display_data",
          "data": {
            "text/plain": [
              "<Figure size 720x360 with 1 Axes>"
            ],
            "image/png": "[encoded data removed]"
          },
          "metadata": {
            "needs_background": "light"
          }
        }
      ],
      "source": [
        "popularity_chart = df_last_10_year.groupby('genre').popularity.sum()\n",
        "popularity_chart.plot(kind='bar',color='pink',figsize=(10,5), fontsize=14)\n",
        "plt.title('Total popularity per Movie Genre in the Last 10 Years',fontsize=24, pad = 30)\n",
        "plt.xlabel(\"Genres\",fontsize=18)\n",
        "plt.ylabel(\"Total of popularity\",fontsize=18);"
      ]
    },
    {
      "cell_type": "markdown",
      "metadata": {
        "id": "S_uHKeh7r9sy"
      },
      "source": [
        "#### From the above bar chart, we can notice that Drama movies have the most popularity *(1614.97)* in the last ten years followed by Thriller movies *(1293)*. while Foreign movies have the least popularity *(19.83)*. \n",
        "----"
      ]
    },
    {
      "cell_type": "markdown",
      "metadata": {
        "id": "EVrQTK3mr9sy"
      },
      "source": [
        "###  Question 2 : What is the rate of budget per genre in the last ten years?"
      ]
    },
    {
      "cell_type": "code",
      "execution_count": 55,
      "metadata": {
        "colab": {
          "base_uri": "https://localhost:8080/",
          "height": 631
        },
        "id": "NXibMhVIr9sz",
        "outputId": "8c88bcd7-c0e2-47f0-d72c-716773993cd5"
      },
      "outputs": [
        {
          "output_type": "display_data",
          "data": {
            "text/plain": [
              "<Figure size 432x288 with 1 Axes>"
            ],
            "image/png": "[encoded data removed]"
          },
          "metadata": {}
        }
      ],
      "source": [
        "bud_p_gen= df_last_10_year.groupby('genre').budget.sum()\n",
        "labels_list=df_last_10_year.genre.unique()\n",
        "color=['pink','lightgray']\n",
        "plt.title('Budget Rate per Genre in the Last 10 Years',fontsize=24, pad=200)\n",
        "\n",
        "plt.pie(bud_p_gen,radius=2.8,labels=labels_list,colors=color,autopct='%1.1f%%', startangle = 320\n",
        "        ,pctdistance=0.77,textprops={'fontsize': 11}, shadow=True);\n",
        "\n"
      ]
    },
    {
      "cell_type": "markdown",
      "metadata": {
        "id": "AMit4Vhor9sz"
      },
      "source": [
        "#### Comedy movies have had the most budget rate (*which is 13.1%*) and Action movies got the second most budget rate (*which is 12.1%*) in the last ten year.\n",
        "---"
      ]
    },
    {
      "cell_type": "markdown",
      "metadata": {
        "id": "5sUjNPIWr9sz"
      },
      "source": [
        "###  Question 3: Is there a relationship between popularity and average vote?"
      ]
    },
    {
      "cell_type": "code",
      "execution_count": 57,
      "metadata": {
        "id": "YYRK7b0xr9sz",
        "outputId": "b2666e73-4f3a-48e9-b667-417f06eb3408",
        "colab": {
          "base_uri": "https://localhost:8080/",
          "height": 438
        }
      },
      "outputs": [
        {
          "output_type": "display_data",
          "data": {
            "text/plain": [
              "<Figure size 432x432 with 1 Axes>"
            ],
            "image/png": "[encoded data removed]"
          },
          "metadata": {
            "needs_background": "light"
          }
        }
      ],
      "source": [
        "df_last_10_year.plot(kind='scatter',x='vote_average',y=\"popularity\",\n",
        "                     color='gray',figsize=(6,6));\n",
        "\n",
        "plt.title(\"Popularity vs. Average Vote\",fontsize=20, pad= 30)\n",
        "plt.xlabel(\"Average Vote\",fontsize=16)\n",
        "plt.ylabel(\"Popularity\",fontsize=16);\n"
      ]
    },
    {
      "cell_type": "markdown",
      "metadata": {
        "id": "TKBPxhs5r9sz"
      },
      "source": [
        "#### The scatter plot shows that Highly popular movies do *not necessarily* have a high average vote, which means that low-popular movies might also have a high average vote.\n",
        "---"
      ]
    },
    {
      "cell_type": "markdown",
      "metadata": {
        "id": "Vhr8howNr9sz"
      },
      "source": [
        " ### Create a new data frame for the last five years of data"
      ]
    },
    {
      "cell_type": "code",
      "execution_count": 59,
      "metadata": {
        "id": "JS6Ai7X2r9sz"
      },
      "outputs": [],
      "source": [
        "df_last_5_year = df_final.query('release_year>=2010')"
      ]
    },
    {
      "cell_type": "markdown",
      "metadata": {
        "id": "sSMjT0lEr9sz"
      },
      "source": [
        "###  Question 4 : Which genre has the highest number of movies generated in the last five years?"
      ]
    },
    {
      "cell_type": "code",
      "execution_count": 73,
      "metadata": {
        "id": "MHv0SwNKr9sz",
        "outputId": "ae186bf3-2129-4305-aa87-c10b497e7766",
        "colab": {
          "base_uri": "https://localhost:8080/",
          "height": 442
        }
      },
      "outputs": [
        {
          "output_type": "display_data",
          "data": {
            "text/plain": [
              "<Figure size 576x432 with 1 Axes>"
            ],
            "image/png": "[encoded data removed]"
          },
          "metadata": {
            "needs_background": "light"
          }
        }
      ],
      "source": [
        "number_mov_per_gen = df_last_5_year.groupby(\"genre\").id.count().sort_values()\n",
        "number_mov_per_gen.plot(kind=\"barh\",sort_columns = False, color='pink',alpha=0.9,figsize=(8,6), fontsize=14);\n",
        "plt.title(\"Number of Movies per Genre in the Last 5 Years\",fontsize=20, pad = 30)\n",
        "plt.xlabel(\" Number of Movies\",fontsize=16)\n",
        "plt.ylabel(\"Genre\",fontsize=16);"
      ]
    },
    {
      "cell_type": "markdown",
      "metadata": {
        "id": "AR2FK0ATr9sz"
      },
      "source": [
        "#### In the last 5 years, the most movies generated are Drama movies (1451 movies exactly) on the other hand the Western genre movies are the lowest generated Movies, which generated just  28 movies.  \n",
        "---\n"
      ]
    },
    {
      "cell_type": "markdown",
      "metadata": {
        "id": "AptujCFcr9sz"
      },
      "source": [
        "\n",
        "\n",
        "### Limitations\n",
        "The dataset contains missing, wrong values, and duplicates rows. In addition, needed to split the genres column to ease the working.\n",
        "\n",
        "> <font color='blue'>*So I had to clean the dataset before start answering my research questions.*</font>\n"
      ]
    },
    {
      "cell_type": "markdown",
      "metadata": {
        "id": "irITCO-0r9s0"
      },
      "source": [
        "###  Conclusions\n",
        ">1. In the last ten year, Drama movies have had the most popularity.\n",
        ">2. In the last ten year, Comedy movies have had the highest budget rate.\n",
        ">3. Drama and Western genre movies have the same budget rate.\n",
        ">4. The relationship between average votes and popularity is not directly proportional.\n",
        ">5. Drama movies have the highest number of generated movies In the last five years.\n",
        "\n",
        "\n"
      ]
    }
  ],
  "metadata": {
    "kernelspec": {
      "display_name": "Python 3",
      "language": "python",
      "name": "python3"
    },
    "language_info": {
      "codemirror_mode": {
        "name": "ipython",
        "version": 3
      },
      "file_extension": ".py",
      "mimetype": "text/x-python",
      "name": "python",
      "nbconvert_exporter": "python",
      "pygments_lexer": "ipython3",
      "version": "3.6.8"
    },
    "colab": {
      "name": "Analyze the TMDb movie dataset  project.ipynb",
      "provenance": [],
      "collapsed_sections": [
        "S_uHKeh7r9sy",
        "AMit4Vhor9sz",
        "TKBPxhs5r9sz",
        "AR2FK0ATr9sz"
      ]
    }
  },
  "nbformat": 4,
  "nbformat_minor": 0
}